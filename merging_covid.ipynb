{
 "cells": [
  {
   "cell_type": "code",
   "execution_count": 89,
   "metadata": {},
   "outputs": [],
   "source": [
    "import pandas as pd\n",
    "df = pd.read_csv('turnstile_unit_zip.csv')"
   ]
  },
  {
   "cell_type": "code",
   "execution_count": 115,
   "metadata": {},
   "outputs": [
    {
     "data": {
      "text/html": [
       "<div>\n",
       "<style scoped>\n",
       "    .dataframe tbody tr th:only-of-type {\n",
       "        vertical-align: middle;\n",
       "    }\n",
       "\n",
       "    .dataframe tbody tr th {\n",
       "        vertical-align: top;\n",
       "    }\n",
       "\n",
       "    .dataframe thead th {\n",
       "        text-align: right;\n",
       "    }\n",
       "</style>\n",
       "<table border=\"1\" class=\"dataframe\">\n",
       "  <thead>\n",
       "    <tr style=\"text-align: right;\">\n",
       "      <th></th>\n",
       "      <th>stop_name</th>\n",
       "      <th>line</th>\n",
       "      <th>zipcode</th>\n",
       "      <th>turnstile_station_id</th>\n",
       "      <th>match_method</th>\n",
       "    </tr>\n",
       "  </thead>\n",
       "  <tbody>\n",
       "    <tr>\n",
       "      <th>5</th>\n",
       "      <td>104102ndsts</td>\n",
       "      <td>jz</td>\n",
       "      <td>11418</td>\n",
       "      <td>NaN</td>\n",
       "      <td>NaN</td>\n",
       "    </tr>\n",
       "    <tr>\n",
       "      <th>76</th>\n",
       "      <td>23stelyavenue</td>\n",
       "      <td>em</td>\n",
       "      <td>11101</td>\n",
       "      <td>NaN</td>\n",
       "      <td>NaN</td>\n",
       "    </tr>\n",
       "    <tr>\n",
       "      <th>96</th>\n",
       "      <td>42ndstportauoritybusterm</td>\n",
       "      <td>ace</td>\n",
       "      <td>10036</td>\n",
       "      <td>NaN</td>\n",
       "      <td>NaN</td>\n",
       "    </tr>\n",
       "    <tr>\n",
       "      <th>97</th>\n",
       "      <td>45courthousesq</td>\n",
       "      <td>77</td>\n",
       "      <td>11101</td>\n",
       "      <td>NaN</td>\n",
       "      <td>NaN</td>\n",
       "    </tr>\n",
       "    <tr>\n",
       "      <th>106</th>\n",
       "      <td>50st</td>\n",
       "      <td>2</td>\n",
       "      <td>10107</td>\n",
       "      <td>NaN</td>\n",
       "      <td>NaN</td>\n",
       "    </tr>\n",
       "    <tr>\n",
       "      <th>...</th>\n",
       "      <td>...</td>\n",
       "      <td>...</td>\n",
       "      <td>...</td>\n",
       "      <td>...</td>\n",
       "      <td>...</td>\n",
       "    </tr>\n",
       "    <tr>\n",
       "      <th>450</th>\n",
       "      <td>w4stwashingtonsqlower</td>\n",
       "      <td>bdfm</td>\n",
       "      <td>10011</td>\n",
       "      <td>NaN</td>\n",
       "      <td>NaN</td>\n",
       "    </tr>\n",
       "    <tr>\n",
       "      <th>451</th>\n",
       "      <td>w4stwashingtonsqupper</td>\n",
       "      <td>ace</td>\n",
       "      <td>10014</td>\n",
       "      <td>NaN</td>\n",
       "      <td>NaN</td>\n",
       "    </tr>\n",
       "    <tr>\n",
       "      <th>458</th>\n",
       "      <td>whitehallst</td>\n",
       "      <td>nr</td>\n",
       "      <td>10004</td>\n",
       "      <td>NaN</td>\n",
       "      <td>NaN</td>\n",
       "    </tr>\n",
       "    <tr>\n",
       "      <th>465</th>\n",
       "      <td>woodside61stst</td>\n",
       "      <td>77</td>\n",
       "      <td>11377</td>\n",
       "      <td>NaN</td>\n",
       "      <td>NaN</td>\n",
       "    </tr>\n",
       "    <tr>\n",
       "      <th>467</th>\n",
       "      <td>wyckoffavenue</td>\n",
       "      <td>m</td>\n",
       "      <td>11385</td>\n",
       "      <td>NaN</td>\n",
       "      <td>NaN</td>\n",
       "    </tr>\n",
       "  </tbody>\n",
       "</table>\n",
       "<p>62 rows × 5 columns</p>\n",
       "</div>"
      ],
      "text/plain": [
       "                    stop_name  line zipcode turnstile_station_id  match_method\n",
       "5                 104102ndsts    jz   11418                  NaN           NaN\n",
       "76              23stelyavenue    em   11101                  NaN           NaN\n",
       "96   42ndstportauoritybusterm   ace   10036                  NaN           NaN\n",
       "97             45courthousesq    77   11101                  NaN           NaN\n",
       "106                      50st     2   10107                  NaN           NaN\n",
       "..                        ...   ...     ...                  ...           ...\n",
       "450     w4stwashingtonsqlower  bdfm   10011                  NaN           NaN\n",
       "451     w4stwashingtonsqupper   ace   10014                  NaN           NaN\n",
       "458               whitehallst    nr   10004                  NaN           NaN\n",
       "465            woodside61stst    77   11377                  NaN           NaN\n",
       "467             wyckoffavenue     m   11385                  NaN           NaN\n",
       "\n",
       "[62 rows x 5 columns]"
      ]
     },
     "execution_count": 115,
     "metadata": {},
     "output_type": "execute_result"
    }
   ],
   "source": [
    "df[df.isna().any(axis=1)]"
   ]
  },
  {
   "cell_type": "code",
   "execution_count": 293,
   "metadata": {},
   "outputs": [],
   "source": [
    "df1 = pd.read_csv('2019_mta_counts.csv')"
   ]
  },
  {
   "cell_type": "code",
   "execution_count": 118,
   "metadata": {},
   "outputs": [],
   "source": [
    "df2 = df[['zipcode', 'turnstile_station_id']]"
   ]
  },
  {
   "cell_type": "code",
   "execution_count": 130,
   "metadata": {},
   "outputs": [
    {
     "name": "stderr",
     "output_type": "stream",
     "text": [
      "/opt/anaconda3/lib/python3.7/site-packages/pandas/core/frame.py:4133: SettingWithCopyWarning: \n",
      "A value is trying to be set on a copy of a slice from a DataFrame\n",
      "\n",
      "See the caveats in the documentation: https://pandas.pydata.org/pandas-docs/stable/user_guide/indexing.html#returning-a-view-versus-a-copy\n",
      "  errors=errors,\n"
     ]
    }
   ],
   "source": [
    "df2.rename(columns={'turnstile_station_id': 'unit'}, inplace=True)"
   ]
  },
  {
   "cell_type": "code",
   "execution_count": 131,
   "metadata": {},
   "outputs": [
    {
     "data": {
      "text/html": [
       "<div>\n",
       "<style scoped>\n",
       "    .dataframe tbody tr th:only-of-type {\n",
       "        vertical-align: middle;\n",
       "    }\n",
       "\n",
       "    .dataframe tbody tr th {\n",
       "        vertical-align: top;\n",
       "    }\n",
       "\n",
       "    .dataframe thead th {\n",
       "        text-align: right;\n",
       "    }\n",
       "</style>\n",
       "<table border=\"1\" class=\"dataframe\">\n",
       "  <thead>\n",
       "    <tr style=\"text-align: right;\">\n",
       "      <th></th>\n",
       "      <th>zipcode</th>\n",
       "      <th>unit</th>\n",
       "    </tr>\n",
       "  </thead>\n",
       "  <tbody>\n",
       "    <tr>\n",
       "      <th>0</th>\n",
       "      <td>10025-4403</td>\n",
       "      <td>r314</td>\n",
       "    </tr>\n",
       "    <tr>\n",
       "      <th>1</th>\n",
       "      <td>10029</td>\n",
       "      <td>r180</td>\n",
       "    </tr>\n",
       "    <tr>\n",
       "      <th>2</th>\n",
       "      <td>10025</td>\n",
       "      <td>r191</td>\n",
       "    </tr>\n",
       "    <tr>\n",
       "      <th>3</th>\n",
       "      <td>11368</td>\n",
       "      <td>r208</td>\n",
       "    </tr>\n",
       "    <tr>\n",
       "      <th>4</th>\n",
       "      <td>11419</td>\n",
       "      <td>r354</td>\n",
       "    </tr>\n",
       "  </tbody>\n",
       "</table>\n",
       "</div>"
      ],
      "text/plain": [
       "      zipcode  unit\n",
       "0  10025-4403  r314\n",
       "1       10029  r180\n",
       "2       10025  r191\n",
       "3       11368  r208\n",
       "4       11419  r354"
      ]
     },
     "execution_count": 131,
     "metadata": {},
     "output_type": "execute_result"
    }
   ],
   "source": [
    "df2.head()"
   ]
  },
  {
   "cell_type": "code",
   "execution_count": 296,
   "metadata": {},
   "outputs": [],
   "source": [
    "df1.unit = df1.unit.str.lower()"
   ]
  },
  {
   "cell_type": "code",
   "execution_count": 304,
   "metadata": {},
   "outputs": [],
   "source": [
    "dfm = pd.merge(df1, df2, on='unit')"
   ]
  },
  {
   "cell_type": "code",
   "execution_count": 312,
   "metadata": {},
   "outputs": [
    {
     "data": {
      "text/html": [
       "<div>\n",
       "<style scoped>\n",
       "    .dataframe tbody tr th:only-of-type {\n",
       "        vertical-align: middle;\n",
       "    }\n",
       "\n",
       "    .dataframe tbody tr th {\n",
       "        vertical-align: top;\n",
       "    }\n",
       "\n",
       "    .dataframe thead th {\n",
       "        text-align: right;\n",
       "    }\n",
       "</style>\n",
       "<table border=\"1\" class=\"dataframe\">\n",
       "  <thead>\n",
       "    <tr style=\"text-align: right;\">\n",
       "      <th></th>\n",
       "      <th>Unnamed: 0</th>\n",
       "      <th>unit</th>\n",
       "      <th>scp</th>\n",
       "      <th>station</th>\n",
       "      <th>linename</th>\n",
       "      <th>date</th>\n",
       "      <th>entries</th>\n",
       "      <th>day_count</th>\n",
       "      <th>zipcode</th>\n",
       "    </tr>\n",
       "  </thead>\n",
       "  <tbody>\n",
       "    <tr>\n",
       "      <th>164114</th>\n",
       "      <td>191219</td>\n",
       "      <td>r208</td>\n",
       "      <td>00-00-02</td>\n",
       "      <td>103 ST-CORONA</td>\n",
       "      <td>7</td>\n",
       "      <td>2019-05-17</td>\n",
       "      <td>2298470</td>\n",
       "      <td>1883.0</td>\n",
       "      <td>11368</td>\n",
       "    </tr>\n",
       "    <tr>\n",
       "      <th>68034</th>\n",
       "      <td>85057</td>\n",
       "      <td>r079</td>\n",
       "      <td>01-06-00</td>\n",
       "      <td>5 AV/59 ST</td>\n",
       "      <td>NQRW</td>\n",
       "      <td>2019-05-17</td>\n",
       "      <td>573730</td>\n",
       "      <td>527.0</td>\n",
       "      <td>10153</td>\n",
       "    </tr>\n",
       "    <tr>\n",
       "      <th>164038</th>\n",
       "      <td>191142</td>\n",
       "      <td>r208</td>\n",
       "      <td>00-00-01</td>\n",
       "      <td>103 ST-CORONA</td>\n",
       "      <td>7</td>\n",
       "      <td>2019-05-17</td>\n",
       "      <td>14341947</td>\n",
       "      <td>1756.0</td>\n",
       "      <td>11368</td>\n",
       "    </tr>\n",
       "    <tr>\n",
       "      <th>67730</th>\n",
       "      <td>84749</td>\n",
       "      <td>r079</td>\n",
       "      <td>00-03-01</td>\n",
       "      <td>5 AV/59 ST</td>\n",
       "      <td>NQRW</td>\n",
       "      <td>2019-05-17</td>\n",
       "      <td>176889</td>\n",
       "      <td>1699.0</td>\n",
       "      <td>10153</td>\n",
       "    </tr>\n",
       "    <tr>\n",
       "      <th>283049</th>\n",
       "      <td>318419</td>\n",
       "      <td>r464</td>\n",
       "      <td>00-06-03</td>\n",
       "      <td>AQUEDUCT RACETR</td>\n",
       "      <td>A</td>\n",
       "      <td>2019-05-17</td>\n",
       "      <td>51047585</td>\n",
       "      <td>378.0</td>\n",
       "      <td>11417</td>\n",
       "    </tr>\n",
       "  </tbody>\n",
       "</table>\n",
       "</div>"
      ],
      "text/plain": [
       "        Unnamed: 0  unit       scp          station linename       date  \\\n",
       "164114      191219  r208  00-00-02    103 ST-CORONA        7 2019-05-17   \n",
       "68034        85057  r079  01-06-00       5 AV/59 ST     NQRW 2019-05-17   \n",
       "164038      191142  r208  00-00-01    103 ST-CORONA        7 2019-05-17   \n",
       "67730        84749  r079  00-03-01       5 AV/59 ST     NQRW 2019-05-17   \n",
       "283049      318419  r464  00-06-03  AQUEDUCT RACETR        A 2019-05-17   \n",
       "\n",
       "         entries  day_count zipcode  \n",
       "164114   2298470     1883.0   11368  \n",
       "68034     573730      527.0   10153  \n",
       "164038  14341947     1756.0   11368  \n",
       "67730     176889     1699.0   10153  \n",
       "283049  51047585      378.0   11417  "
      ]
     },
     "execution_count": 312,
     "metadata": {},
     "output_type": "execute_result"
    }
   ],
   "source": [
    "dfm.sort_values('date').tail()"
   ]
  },
  {
   "cell_type": "code",
   "execution_count": 308,
   "metadata": {},
   "outputs": [],
   "source": [
    "dfm.date = pd.to_datetime(dfm.date, format='%Y-%m-%d')"
   ]
  },
  {
   "cell_type": "code",
   "execution_count": 309,
   "metadata": {},
   "outputs": [],
   "source": [
    "low = np.datetime64('2019-03-31')\n",
    "high = np.datetime64('2019-05-17')\n",
    "dfm = dfm[(dfm.date >= low) & (dfm.date <= high)]"
   ]
  },
  {
   "cell_type": "code",
   "execution_count": 306,
   "metadata": {},
   "outputs": [
    {
     "data": {
      "text/plain": [
       "'2020-05-17'"
      ]
     },
     "execution_count": 306,
     "metadata": {},
     "output_type": "execute_result"
    }
   ],
   "source": [
    "df_master.date.max()"
   ]
  },
  {
   "cell_type": "code",
   "execution_count": null,
   "metadata": {},
   "outputs": [],
   "source": [
    "dfm = dfm[(dfm.date >= ]"
   ]
  },
  {
   "cell_type": "code",
   "execution_count": 152,
   "metadata": {},
   "outputs": [
    {
     "data": {
      "text/plain": [
       "'11208'"
      ]
     },
     "execution_count": 152,
     "metadata": {},
     "output_type": "execute_result"
    }
   ],
   "source": [
    "counts2019 = dfm[dfm.zipcode == ]"
   ]
  },
  {
   "cell_type": "code",
   "execution_count": 141,
   "metadata": {},
   "outputs": [],
   "source": [
    "dfc = pd.read_csv('covid_curated.csv')"
   ]
  },
  {
   "cell_type": "code",
   "execution_count": 156,
   "metadata": {},
   "outputs": [],
   "source": [
    "dfc.zipcode = dfc.zipcode.astype(str)"
   ]
  },
  {
   "cell_type": "code",
   "execution_count": 157,
   "metadata": {},
   "outputs": [
    {
     "data": {
      "text/html": [
       "<div>\n",
       "<style scoped>\n",
       "    .dataframe tbody tr th:only-of-type {\n",
       "        vertical-align: middle;\n",
       "    }\n",
       "\n",
       "    .dataframe tbody tr th {\n",
       "        vertical-align: top;\n",
       "    }\n",
       "\n",
       "    .dataframe thead th {\n",
       "        text-align: right;\n",
       "    }\n",
       "</style>\n",
       "<table border=\"1\" class=\"dataframe\">\n",
       "  <thead>\n",
       "    <tr style=\"text-align: right;\">\n",
       "      <th></th>\n",
       "      <th>zipcode</th>\n",
       "      <th>positive</th>\n",
       "      <th>prev_positive</th>\n",
       "      <th>daily_new</th>\n",
       "      <th>date</th>\n",
       "    </tr>\n",
       "  </thead>\n",
       "  <tbody>\n",
       "    <tr>\n",
       "      <th>7962</th>\n",
       "      <td>10455</td>\n",
       "      <td>1187</td>\n",
       "      <td>1184.0</td>\n",
       "      <td>3.0</td>\n",
       "      <td>2020-05-17</td>\n",
       "    </tr>\n",
       "    <tr>\n",
       "      <th>7963</th>\n",
       "      <td>11233</td>\n",
       "      <td>1180</td>\n",
       "      <td>1173.0</td>\n",
       "      <td>7.0</td>\n",
       "      <td>2020-05-17</td>\n",
       "    </tr>\n",
       "    <tr>\n",
       "      <th>7964</th>\n",
       "      <td>11412</td>\n",
       "      <td>1180</td>\n",
       "      <td>1173.0</td>\n",
       "      <td>7.0</td>\n",
       "      <td>2020-05-17</td>\n",
       "    </tr>\n",
       "    <tr>\n",
       "      <th>7965</th>\n",
       "      <td>10017</td>\n",
       "      <td>132</td>\n",
       "      <td>130.0</td>\n",
       "      <td>2.0</td>\n",
       "      <td>2020-05-17</td>\n",
       "    </tr>\n",
       "    <tr>\n",
       "      <th>7966</th>\n",
       "      <td>11368</td>\n",
       "      <td>4213</td>\n",
       "      <td>4191.0</td>\n",
       "      <td>22.0</td>\n",
       "      <td>2020-05-17</td>\n",
       "    </tr>\n",
       "  </tbody>\n",
       "</table>\n",
       "</div>"
      ],
      "text/plain": [
       "     zipcode  positive  prev_positive  daily_new        date\n",
       "7962   10455      1187         1184.0        3.0  2020-05-17\n",
       "7963   11233      1180         1173.0        7.0  2020-05-17\n",
       "7964   11412      1180         1173.0        7.0  2020-05-17\n",
       "7965   10017       132          130.0        2.0  2020-05-17\n",
       "7966   11368      4213         4191.0       22.0  2020-05-17"
      ]
     },
     "execution_count": 157,
     "metadata": {},
     "output_type": "execute_result"
    }
   ],
   "source": [
    "dfc.tail()"
   ]
  },
  {
   "cell_type": "code",
   "execution_count": 145,
   "metadata": {},
   "outputs": [],
   "source": [
    "dfc.drop(columns='Unnamed: 0', inplace=True)"
   ]
  },
  {
   "cell_type": "code",
   "execution_count": 180,
   "metadata": {},
   "outputs": [],
   "source": [
    "df_master = pd.merge(dfm, dfc, on=['date', 'zipcode'])"
   ]
  },
  {
   "cell_type": "code",
   "execution_count": 181,
   "metadata": {},
   "outputs": [
    {
     "data": {
      "text/html": [
       "<div>\n",
       "<style scoped>\n",
       "    .dataframe tbody tr th:only-of-type {\n",
       "        vertical-align: middle;\n",
       "    }\n",
       "\n",
       "    .dataframe tbody tr th {\n",
       "        vertical-align: top;\n",
       "    }\n",
       "\n",
       "    .dataframe thead th {\n",
       "        text-align: right;\n",
       "    }\n",
       "</style>\n",
       "<table border=\"1\" class=\"dataframe\">\n",
       "  <thead>\n",
       "    <tr style=\"text-align: right;\">\n",
       "      <th></th>\n",
       "      <th>Unnamed: 0</th>\n",
       "      <th>unit</th>\n",
       "      <th>scp</th>\n",
       "      <th>station</th>\n",
       "      <th>linename</th>\n",
       "      <th>date</th>\n",
       "      <th>entries</th>\n",
       "      <th>day_count</th>\n",
       "      <th>zipcode</th>\n",
       "      <th>positive</th>\n",
       "      <th>prev_positive</th>\n",
       "      <th>daily_new</th>\n",
       "    </tr>\n",
       "  </thead>\n",
       "  <tbody>\n",
       "    <tr>\n",
       "      <th>0</th>\n",
       "      <td>2789</td>\n",
       "      <td>r003</td>\n",
       "      <td>00-00-00</td>\n",
       "      <td>CYPRESS HILLS</td>\n",
       "      <td>J</td>\n",
       "      <td>2020-03-31</td>\n",
       "      <td>625201</td>\n",
       "      <td>100.0</td>\n",
       "      <td>11208</td>\n",
       "      <td>350</td>\n",
       "      <td>NaN</td>\n",
       "      <td>NaN</td>\n",
       "    </tr>\n",
       "    <tr>\n",
       "      <th>1</th>\n",
       "      <td>2866</td>\n",
       "      <td>r003</td>\n",
       "      <td>00-00-01</td>\n",
       "      <td>CYPRESS HILLS</td>\n",
       "      <td>J</td>\n",
       "      <td>2020-03-31</td>\n",
       "      <td>1974157</td>\n",
       "      <td>56.0</td>\n",
       "      <td>11208</td>\n",
       "      <td>350</td>\n",
       "      <td>NaN</td>\n",
       "      <td>NaN</td>\n",
       "    </tr>\n",
       "    <tr>\n",
       "      <th>2</th>\n",
       "      <td>2943</td>\n",
       "      <td>r003</td>\n",
       "      <td>00-00-02</td>\n",
       "      <td>CYPRESS HILLS</td>\n",
       "      <td>J</td>\n",
       "      <td>2020-03-31</td>\n",
       "      <td>4874451</td>\n",
       "      <td>105.0</td>\n",
       "      <td>11208</td>\n",
       "      <td>350</td>\n",
       "      <td>NaN</td>\n",
       "      <td>NaN</td>\n",
       "    </tr>\n",
       "    <tr>\n",
       "      <th>3</th>\n",
       "      <td>187510</td>\n",
       "      <td>r200</td>\n",
       "      <td>00-00-00</td>\n",
       "      <td>EUCLID AV</td>\n",
       "      <td>AC</td>\n",
       "      <td>2020-03-31</td>\n",
       "      <td>1172470</td>\n",
       "      <td>291.0</td>\n",
       "      <td>11208</td>\n",
       "      <td>350</td>\n",
       "      <td>NaN</td>\n",
       "      <td>NaN</td>\n",
       "    </tr>\n",
       "    <tr>\n",
       "      <th>4</th>\n",
       "      <td>187587</td>\n",
       "      <td>r200</td>\n",
       "      <td>00-00-01</td>\n",
       "      <td>EUCLID AV</td>\n",
       "      <td>AC</td>\n",
       "      <td>2020-03-31</td>\n",
       "      <td>6243919</td>\n",
       "      <td>581.0</td>\n",
       "      <td>11208</td>\n",
       "      <td>350</td>\n",
       "      <td>NaN</td>\n",
       "      <td>NaN</td>\n",
       "    </tr>\n",
       "  </tbody>\n",
       "</table>\n",
       "</div>"
      ],
      "text/plain": [
       "   Unnamed: 0  unit       scp        station linename        date  entries  \\\n",
       "0        2789  r003  00-00-00  CYPRESS HILLS        J  2020-03-31   625201   \n",
       "1        2866  r003  00-00-01  CYPRESS HILLS        J  2020-03-31  1974157   \n",
       "2        2943  r003  00-00-02  CYPRESS HILLS        J  2020-03-31  4874451   \n",
       "3      187510  r200  00-00-00      EUCLID AV       AC  2020-03-31  1172470   \n",
       "4      187587  r200  00-00-01      EUCLID AV       AC  2020-03-31  6243919   \n",
       "\n",
       "   day_count zipcode  positive  prev_positive  daily_new  \n",
       "0      100.0   11208       350            NaN        NaN  \n",
       "1       56.0   11208       350            NaN        NaN  \n",
       "2      105.0   11208       350            NaN        NaN  \n",
       "3      291.0   11208       350            NaN        NaN  \n",
       "4      581.0   11208       350            NaN        NaN  "
      ]
     },
     "execution_count": 181,
     "metadata": {},
     "output_type": "execute_result"
    }
   ],
   "source": [
    "df_master.head()"
   ]
  },
  {
   "cell_type": "code",
   "execution_count": 182,
   "metadata": {},
   "outputs": [],
   "source": [
    "df_master.drop(columns=['Unnamed: 0', 'prev_positive'], inplace=True)"
   ]
  },
  {
   "cell_type": "code",
   "execution_count": 194,
   "metadata": {},
   "outputs": [
    {
     "data": {
      "text/html": [
       "<div>\n",
       "<style scoped>\n",
       "    .dataframe tbody tr th:only-of-type {\n",
       "        vertical-align: middle;\n",
       "    }\n",
       "\n",
       "    .dataframe tbody tr th {\n",
       "        vertical-align: top;\n",
       "    }\n",
       "\n",
       "    .dataframe thead th {\n",
       "        text-align: right;\n",
       "    }\n",
       "</style>\n",
       "<table border=\"1\" class=\"dataframe\">\n",
       "  <thead>\n",
       "    <tr style=\"text-align: right;\">\n",
       "      <th></th>\n",
       "      <th>unit</th>\n",
       "      <th>scp</th>\n",
       "      <th>station</th>\n",
       "      <th>linename</th>\n",
       "      <th>date</th>\n",
       "      <th>entries</th>\n",
       "      <th>day_entries</th>\n",
       "      <th>zipcode</th>\n",
       "      <th>positive</th>\n",
       "      <th>day_cases</th>\n",
       "    </tr>\n",
       "  </thead>\n",
       "  <tbody>\n",
       "    <tr>\n",
       "      <th>156380</th>\n",
       "      <td>r463</td>\n",
       "      <td>00-06-06</td>\n",
       "      <td>CANAL ST</td>\n",
       "      <td>JNQRZ6W</td>\n",
       "      <td>2020-05-17</td>\n",
       "      <td>102766562</td>\n",
       "      <td>12.0</td>\n",
       "      <td>10013</td>\n",
       "      <td>245</td>\n",
       "      <td>0.0</td>\n",
       "    </tr>\n",
       "    <tr>\n",
       "      <th>156381</th>\n",
       "      <td>r463</td>\n",
       "      <td>00-06-07</td>\n",
       "      <td>CANAL ST</td>\n",
       "      <td>JNQRZ6W</td>\n",
       "      <td>2020-05-17</td>\n",
       "      <td>4943536</td>\n",
       "      <td>8.0</td>\n",
       "      <td>10013</td>\n",
       "      <td>245</td>\n",
       "      <td>0.0</td>\n",
       "    </tr>\n",
       "    <tr>\n",
       "      <th>156382</th>\n",
       "      <td>r463</td>\n",
       "      <td>00-06-07</td>\n",
       "      <td>CANAL ST</td>\n",
       "      <td>JNQRZ6W</td>\n",
       "      <td>2020-05-17</td>\n",
       "      <td>4943536</td>\n",
       "      <td>8.0</td>\n",
       "      <td>10013</td>\n",
       "      <td>245</td>\n",
       "      <td>0.0</td>\n",
       "    </tr>\n",
       "    <tr>\n",
       "      <th>156383</th>\n",
       "      <td>r463</td>\n",
       "      <td>00-06-08</td>\n",
       "      <td>CANAL ST</td>\n",
       "      <td>JNQRZ6W</td>\n",
       "      <td>2020-05-17</td>\n",
       "      <td>1691542</td>\n",
       "      <td>13.0</td>\n",
       "      <td>10013</td>\n",
       "      <td>245</td>\n",
       "      <td>0.0</td>\n",
       "    </tr>\n",
       "    <tr>\n",
       "      <th>156384</th>\n",
       "      <td>r463</td>\n",
       "      <td>00-06-08</td>\n",
       "      <td>CANAL ST</td>\n",
       "      <td>JNQRZ6W</td>\n",
       "      <td>2020-05-17</td>\n",
       "      <td>1691542</td>\n",
       "      <td>13.0</td>\n",
       "      <td>10013</td>\n",
       "      <td>245</td>\n",
       "      <td>0.0</td>\n",
       "    </tr>\n",
       "  </tbody>\n",
       "</table>\n",
       "</div>"
      ],
      "text/plain": [
       "        unit       scp   station linename        date    entries  day_entries  \\\n",
       "156380  r463  00-06-06  CANAL ST  JNQRZ6W  2020-05-17  102766562         12.0   \n",
       "156381  r463  00-06-07  CANAL ST  JNQRZ6W  2020-05-17    4943536          8.0   \n",
       "156382  r463  00-06-07  CANAL ST  JNQRZ6W  2020-05-17    4943536          8.0   \n",
       "156383  r463  00-06-08  CANAL ST  JNQRZ6W  2020-05-17    1691542         13.0   \n",
       "156384  r463  00-06-08  CANAL ST  JNQRZ6W  2020-05-17    1691542         13.0   \n",
       "\n",
       "       zipcode  positive  day_cases  \n",
       "156380   10013       245        0.0  \n",
       "156381   10013       245        0.0  \n",
       "156382   10013       245        0.0  \n",
       "156383   10013       245        0.0  \n",
       "156384   10013       245        0.0  "
      ]
     },
     "execution_count": 194,
     "metadata": {},
     "output_type": "execute_result"
    }
   ],
   "source": [
    "df_master.tail()"
   ]
  },
  {
   "cell_type": "code",
   "execution_count": null,
   "metadata": {},
   "outputs": [],
   "source": [
    "df_master.rename(columns={'day_count': 'day_entries', 'daily_new': 'day_cases'}, inplace=True)"
   ]
  },
  {
   "cell_type": "code",
   "execution_count": 237,
   "metadata": {},
   "outputs": [],
   "source": [
    "df_master = df_master[df_master.zipcode != '11232']"
   ]
  },
  {
   "cell_type": "code",
   "execution_count": 191,
   "metadata": {},
   "outputs": [
    {
     "data": {
      "text/html": [
       "<div>\n",
       "<style scoped>\n",
       "    .dataframe tbody tr th:only-of-type {\n",
       "        vertical-align: middle;\n",
       "    }\n",
       "\n",
       "    .dataframe tbody tr th {\n",
       "        vertical-align: top;\n",
       "    }\n",
       "\n",
       "    .dataframe thead th {\n",
       "        text-align: right;\n",
       "    }\n",
       "</style>\n",
       "<table border=\"1\" class=\"dataframe\">\n",
       "  <thead>\n",
       "    <tr style=\"text-align: right;\">\n",
       "      <th></th>\n",
       "      <th>unit</th>\n",
       "      <th>scp</th>\n",
       "      <th>station</th>\n",
       "      <th>linename</th>\n",
       "      <th>date</th>\n",
       "      <th>entries</th>\n",
       "      <th>day_entries</th>\n",
       "      <th>zipcode</th>\n",
       "      <th>positive</th>\n",
       "      <th>day_cases</th>\n",
       "    </tr>\n",
       "  </thead>\n",
       "  <tbody>\n",
       "    <tr>\n",
       "      <th>71181</th>\n",
       "      <td>r224</td>\n",
       "      <td>00-00-01</td>\n",
       "      <td>CLARK ST</td>\n",
       "      <td>23</td>\n",
       "      <td>2020-04-30</td>\n",
       "      <td>7229357</td>\n",
       "      <td>18.0</td>\n",
       "      <td>11201</td>\n",
       "      <td>520</td>\n",
       "      <td>8.0</td>\n",
       "    </tr>\n",
       "  </tbody>\n",
       "</table>\n",
       "</div>"
      ],
      "text/plain": [
       "       unit       scp   station linename        date  entries  day_entries  \\\n",
       "71181  r224  00-00-01  CLARK ST       23  2020-04-30  7229357         18.0   \n",
       "\n",
       "      zipcode  positive  day_cases  \n",
       "71181   11201       520        8.0  "
      ]
     },
     "execution_count": 191,
     "metadata": {},
     "output_type": "execute_result"
    }
   ],
   "source": [
    "df_master.sample()"
   ]
  },
  {
   "cell_type": "code",
   "execution_count": 175,
   "metadata": {},
   "outputs": [],
   "source": [
    "df_master.to_csv('mta_and_covid.csv')"
   ]
  },
  {
   "cell_type": "code",
   "execution_count": 192,
   "metadata": {},
   "outputs": [
    {
     "data": {
      "text/plain": [
       "300"
      ]
     },
     "execution_count": 192,
     "metadata": {},
     "output_type": "execute_result"
    }
   ],
   "source": [
    "len(df_master.station.sort_values().unique())"
   ]
  },
  {
   "cell_type": "code",
   "execution_count": 315,
   "metadata": {},
   "outputs": [],
   "source": [
    "df_zip = (df_master\n",
    "          .groupby(['zipcode', 'date'])[['day_entries', 'day_cases']]\n",
    "          .agg({'day_entries': 'sum', 'day_cases': 'min'})\n",
    "          .reset_index())"
   ]
  },
  {
   "cell_type": "code",
   "execution_count": 316,
   "metadata": {},
   "outputs": [
    {
     "data": {
      "text/html": [
       "<div>\n",
       "<style scoped>\n",
       "    .dataframe tbody tr th:only-of-type {\n",
       "        vertical-align: middle;\n",
       "    }\n",
       "\n",
       "    .dataframe tbody tr th {\n",
       "        vertical-align: top;\n",
       "    }\n",
       "\n",
       "    .dataframe thead th {\n",
       "        text-align: right;\n",
       "    }\n",
       "</style>\n",
       "<table border=\"1\" class=\"dataframe\">\n",
       "  <thead>\n",
       "    <tr style=\"text-align: right;\">\n",
       "      <th></th>\n",
       "      <th>zipcode</th>\n",
       "      <th>date</th>\n",
       "      <th>day_entries</th>\n",
       "      <th>day_cases</th>\n",
       "    </tr>\n",
       "  </thead>\n",
       "  <tbody>\n",
       "    <tr>\n",
       "      <th>660</th>\n",
       "      <td>10019</td>\n",
       "      <td>2020-05-03</td>\n",
       "      <td>84851.0</td>\n",
       "      <td>4.0</td>\n",
       "    </tr>\n",
       "    <tr>\n",
       "      <th>2463</th>\n",
       "      <td>11101</td>\n",
       "      <td>2020-05-06</td>\n",
       "      <td>50748.0</td>\n",
       "      <td>6.0</td>\n",
       "    </tr>\n",
       "    <tr>\n",
       "      <th>240</th>\n",
       "      <td>10007</td>\n",
       "      <td>2020-04-18</td>\n",
       "      <td>47113.0</td>\n",
       "      <td>2.0</td>\n",
       "    </tr>\n",
       "    <tr>\n",
       "      <th>2922</th>\n",
       "      <td>11207</td>\n",
       "      <td>2020-05-15</td>\n",
       "      <td>18438.0</td>\n",
       "      <td>15.0</td>\n",
       "    </tr>\n",
       "    <tr>\n",
       "      <th>2921</th>\n",
       "      <td>11207</td>\n",
       "      <td>2020-05-14</td>\n",
       "      <td>17629.0</td>\n",
       "      <td>18.0</td>\n",
       "    </tr>\n",
       "  </tbody>\n",
       "</table>\n",
       "</div>"
      ],
      "text/plain": [
       "     zipcode        date  day_entries  day_cases\n",
       "660    10019  2020-05-03      84851.0        4.0\n",
       "2463   11101  2020-05-06      50748.0        6.0\n",
       "240    10007  2020-04-18      47113.0        2.0\n",
       "2922   11207  2020-05-15      18438.0       15.0\n",
       "2921   11207  2020-05-14      17629.0       18.0"
      ]
     },
     "execution_count": 316,
     "metadata": {},
     "output_type": "execute_result"
    }
   ],
   "source": [
    "df_zip.sort_values('day_entries', ascending=False).head()"
   ]
  },
  {
   "cell_type": "code",
   "execution_count": 317,
   "metadata": {},
   "outputs": [
    {
     "data": {
      "text/html": [
       "<div>\n",
       "<style scoped>\n",
       "    .dataframe tbody tr th:only-of-type {\n",
       "        vertical-align: middle;\n",
       "    }\n",
       "\n",
       "    .dataframe tbody tr th {\n",
       "        vertical-align: top;\n",
       "    }\n",
       "\n",
       "    .dataframe thead th {\n",
       "        text-align: right;\n",
       "    }\n",
       "</style>\n",
       "<table border=\"1\" class=\"dataframe\">\n",
       "  <thead>\n",
       "    <tr style=\"text-align: right;\">\n",
       "      <th></th>\n",
       "      <th>zipcode</th>\n",
       "      <th>date</th>\n",
       "      <th>day_entries</th>\n",
       "      <th>day_cases</th>\n",
       "    </tr>\n",
       "  </thead>\n",
       "  <tbody>\n",
       "    <tr>\n",
       "      <th>4191</th>\n",
       "      <td>11373</td>\n",
       "      <td>2020-04-09</td>\n",
       "      <td>2155.0</td>\n",
       "      <td>412.0</td>\n",
       "    </tr>\n",
       "    <tr>\n",
       "      <th>4101</th>\n",
       "      <td>11368</td>\n",
       "      <td>2020-04-09</td>\n",
       "      <td>5091.0</td>\n",
       "      <td>404.0</td>\n",
       "    </tr>\n",
       "    <tr>\n",
       "      <th>4096</th>\n",
       "      <td>11368</td>\n",
       "      <td>2020-04-03</td>\n",
       "      <td>6290.0</td>\n",
       "      <td>298.0</td>\n",
       "    </tr>\n",
       "    <tr>\n",
       "      <th>4146</th>\n",
       "      <td>11372</td>\n",
       "      <td>2020-04-09</td>\n",
       "      <td>2569.0</td>\n",
       "      <td>275.0</td>\n",
       "    </tr>\n",
       "    <tr>\n",
       "      <th>3331</th>\n",
       "      <td>11219</td>\n",
       "      <td>2020-04-03</td>\n",
       "      <td>1623.0</td>\n",
       "      <td>266.0</td>\n",
       "    </tr>\n",
       "  </tbody>\n",
       "</table>\n",
       "</div>"
      ],
      "text/plain": [
       "     zipcode        date  day_entries  day_cases\n",
       "4191   11373  2020-04-09       2155.0      412.0\n",
       "4101   11368  2020-04-09       5091.0      404.0\n",
       "4096   11368  2020-04-03       6290.0      298.0\n",
       "4146   11372  2020-04-09       2569.0      275.0\n",
       "3331   11219  2020-04-03       1623.0      266.0"
      ]
     },
     "execution_count": 317,
     "metadata": {},
     "output_type": "execute_result"
    }
   ],
   "source": [
    "df_zip.sort_values('day_cases', ascending=False).head()"
   ]
  },
  {
   "cell_type": "code",
   "execution_count": 275,
   "metadata": {},
   "outputs": [],
   "source": [
    "df_zip.date = pd.to_datetime(df_zip.date, format='%Y-%m-%d')"
   ]
  },
  {
   "cell_type": "code",
   "execution_count": 216,
   "metadata": {},
   "outputs": [],
   "source": [
    "import numpy as np"
   ]
  },
  {
   "cell_type": "code",
   "execution_count": 277,
   "metadata": {},
   "outputs": [],
   "source": [
    "from collections import defaultdict\n",
    "zip_ride_covid = defaultdict(list)\n",
    "for row in df_zip.itertuples():\n",
    "    zip_ride_covid[row[1]].append((np.datetime64(row[2]), row[3], row[4]))"
   ]
  },
  {
   "cell_type": "code",
   "execution_count": 205,
   "metadata": {},
   "outputs": [
    {
     "data": {
      "text/plain": [
       "<Figure size 720x216 with 0 Axes>"
      ]
     },
     "execution_count": 205,
     "metadata": {},
     "output_type": "execute_result"
    },
    {
     "data": {
      "text/plain": [
       "<Figure size 720x216 with 0 Axes>"
      ]
     },
     "metadata": {},
     "output_type": "display_data"
    }
   ],
   "source": [
    "%matplotlib inline\n",
    "import matplotlib.pyplot as plt\n",
    "plt.figure(figsize=(10,3))"
   ]
  },
  {
   "cell_type": "code",
   "execution_count": 388,
   "metadata": {},
   "outputs": [],
   "source": [
    "counts2019 = dfm[dfm.zipcode == '11368'].sort_values('date').groupby('date')['day_count'].sum()[3:]\n",
    "countm2019 = dfm[dfm.zipcode == '10007'].sort_values('date').groupby('date')['day_count'].sum()[3:]"
   ]
  },
  {
   "cell_type": "code",
   "execution_count": 389,
   "metadata": {},
   "outputs": [
    {
     "data": {
      "text/plain": [
       "<matplotlib.legend.Legend at 0x7fbbd032a4d0>"
      ]
     },
     "execution_count": 389,
     "metadata": {},
     "output_type": "execute_result"
    },
    {
     "data": {
      "image/png": "[encoded data removed]",
      "text/plain": [
       "<Figure size 432x288 with 1 Axes>"
      ]
     },
     "metadata": {
      "needs_background": "light"
     },
     "output_type": "display_data"
    }
   ],
   "source": [
    "plt.plot(dates, counts2019)\n",
    "plt.plot(dates, countm2019)\n",
    "plt.xlabel('date')\n",
    "plt.ylabel('daily entries')\n",
    "plt.legend(['11368', '10001'],loc='upper left')"
   ]
  },
  {
   "cell_type": "code",
   "execution_count": 425,
   "metadata": {},
   "outputs": [],
   "source": [
    "import seaborn as sns"
   ]
  },
  {
   "cell_type": "code",
   "execution_count": 429,
   "metadata": {},
   "outputs": [
    {
     "data": {
      "text/plain": [
       "<matplotlib.legend.Legend at 0x7fbbd2970410>"
      ]
     },
     "execution_count": 429,
     "metadata": {},
     "output_type": "execute_result"
    },
    {
     "data": {
      "image/png": "[encoded data removed]",
      "text/plain": [
       "<Figure size 432x288 with 1 Axes>"
      ]
     },
     "metadata": {
      "needs_background": "light"
     },
     "output_type": "display_data"
    }
   ],
   "source": [
    "dates, entries_j, cases_j = list(zip(*zip_ride_covid['11368']))\n",
    "dates, entries_m, cases_m = list(zip(*zip_ride_covid['10006']))\n",
    "plt.plot(dates, entries_j, label='11368')\n",
    "plt.plot(dates, entries_m, label='10006')\n",
    "plt.xlabel('date')\n",
    "plt.ylabel('daily entries')\n",
    "plt.legend(loc='upper left')"
   ]
  },
  {
   "cell_type": "code",
   "execution_count": 430,
   "metadata": {},
   "outputs": [
    {
     "data": {
      "text/plain": [
       "<matplotlib.legend.Legend at 0x7fbbd2a70a10>"
      ]
     },
     "execution_count": 430,
     "metadata": {},
     "output_type": "execute_result"
    },
    {
     "data": {
      "image/png": "[encoded data removed]",
      "text/plain": [
       "<Figure size 432x288 with 1 Axes>"
      ]
     },
     "metadata": {
      "needs_background": "light"
     },
     "output_type": "display_data"
    }
   ],
   "source": [
    "plt.plot(dates, cases_j, label='11368')\n",
    "plt.plot(dates, cases_m, label='10006')\n",
    "plt.xlabel('date')\n",
    "plt.ylabel('daily new cases')\n",
    "plt.legend(loc='upper right')"
   ]
  },
  {
   "cell_type": "code",
   "execution_count": 245,
   "metadata": {},
   "outputs": [
    {
     "data": {
      "text/plain": [
       "[]"
      ]
     },
     "execution_count": 245,
     "metadata": {},
     "output_type": "execute_result"
    }
   ],
   "source": [
    "zip_ride_covid['11232']"
   ]
  },
  {
   "cell_type": "code",
   "execution_count": 409,
   "metadata": {},
   "outputs": [
    {
     "data": {
      "text/html": [
       "<div>\n",
       "<style scoped>\n",
       "    .dataframe tbody tr th:only-of-type {\n",
       "        vertical-align: middle;\n",
       "    }\n",
       "\n",
       "    .dataframe tbody tr th {\n",
       "        vertical-align: top;\n",
       "    }\n",
       "\n",
       "    .dataframe thead th {\n",
       "        text-align: right;\n",
       "    }\n",
       "</style>\n",
       "<table border=\"1\" class=\"dataframe\">\n",
       "  <thead>\n",
       "    <tr style=\"text-align: right;\">\n",
       "      <th></th>\n",
       "      <th>zipcode</th>\n",
       "      <th>day_entries</th>\n",
       "      <th>day_cases</th>\n",
       "    </tr>\n",
       "  </thead>\n",
       "  <tbody>\n",
       "    <tr>\n",
       "      <th>0</th>\n",
       "      <td>11207</td>\n",
       "      <td>605938.0</td>\n",
       "      <td>36.590909</td>\n",
       "    </tr>\n",
       "    <tr>\n",
       "      <th>1</th>\n",
       "      <td>10452</td>\n",
       "      <td>504836.0</td>\n",
       "      <td>41.386364</td>\n",
       "    </tr>\n",
       "    <tr>\n",
       "      <th>2</th>\n",
       "      <td>10468</td>\n",
       "      <td>437553.0</td>\n",
       "      <td>48.734626</td>\n",
       "    </tr>\n",
       "    <tr>\n",
       "      <th>3</th>\n",
       "      <td>10037</td>\n",
       "      <td>414822.0</td>\n",
       "      <td>9.125191</td>\n",
       "    </tr>\n",
       "    <tr>\n",
       "      <th>4</th>\n",
       "      <td>10040</td>\n",
       "      <td>414569.0</td>\n",
       "      <td>19.171841</td>\n",
       "    </tr>\n",
       "    <tr>\n",
       "      <th>5</th>\n",
       "      <td>11101</td>\n",
       "      <td>393685.0</td>\n",
       "      <td>9.978340</td>\n",
       "    </tr>\n",
       "    <tr>\n",
       "      <th>6</th>\n",
       "      <td>10019</td>\n",
       "      <td>358696.0</td>\n",
       "      <td>8.813487</td>\n",
       "    </tr>\n",
       "    <tr>\n",
       "      <th>7</th>\n",
       "      <td>11201</td>\n",
       "      <td>299718.0</td>\n",
       "      <td>9.886364</td>\n",
       "    </tr>\n",
       "    <tr>\n",
       "      <th>8</th>\n",
       "      <td>11368</td>\n",
       "      <td>294890.0</td>\n",
       "      <td>74.227273</td>\n",
       "    </tr>\n",
       "    <tr>\n",
       "      <th>9</th>\n",
       "      <td>10472</td>\n",
       "      <td>289617.0</td>\n",
       "      <td>34.636364</td>\n",
       "    </tr>\n",
       "  </tbody>\n",
       "</table>\n",
       "</div>"
      ],
      "text/plain": [
       "  zipcode  day_entries  day_cases\n",
       "0   11207     605938.0  36.590909\n",
       "1   10452     504836.0  41.386364\n",
       "2   10468     437553.0  48.734626\n",
       "3   10037     414822.0   9.125191\n",
       "4   10040     414569.0  19.171841\n",
       "5   11101     393685.0   9.978340\n",
       "6   10019     358696.0   8.813487\n",
       "7   11201     299718.0   9.886364\n",
       "8   11368     294890.0  74.227273\n",
       "9   10472     289617.0  34.636364"
      ]
     },
     "execution_count": 409,
     "metadata": {},
     "output_type": "execute_result"
    }
   ],
   "source": [
    "top_entries = (df_master.groupby('zipcode')[['day_entries','day_cases']]\n",
    " .agg({'day_entries': 'sum', 'day_cases': 'mean'})\n",
    " .sort_values('day_entries', ascending=False).reset_index())\n",
    "top_entries.head(10)"
   ]
  },
  {
   "cell_type": "code",
   "execution_count": 438,
   "metadata": {},
   "outputs": [
    {
     "data": {
      "text/html": [
       "<div>\n",
       "<style scoped>\n",
       "    .dataframe tbody tr th:only-of-type {\n",
       "        vertical-align: middle;\n",
       "    }\n",
       "\n",
       "    .dataframe tbody tr th {\n",
       "        vertical-align: top;\n",
       "    }\n",
       "\n",
       "    .dataframe thead th {\n",
       "        text-align: right;\n",
       "    }\n",
       "</style>\n",
       "<table border=\"1\" class=\"dataframe\">\n",
       "  <thead>\n",
       "    <tr style=\"text-align: right;\">\n",
       "      <th></th>\n",
       "      <th>zipcode</th>\n",
       "      <th>day_entries</th>\n",
       "      <th>day_cases</th>\n",
       "    </tr>\n",
       "  </thead>\n",
       "  <tbody>\n",
       "    <tr>\n",
       "      <th>0</th>\n",
       "      <td>11368</td>\n",
       "      <td>294890.0</td>\n",
       "      <td>74.227273</td>\n",
       "    </tr>\n",
       "    <tr>\n",
       "      <th>1</th>\n",
       "      <td>10467</td>\n",
       "      <td>224035.0</td>\n",
       "      <td>56.931818</td>\n",
       "    </tr>\n",
       "    <tr>\n",
       "      <th>2</th>\n",
       "      <td>10469</td>\n",
       "      <td>132524.0</td>\n",
       "      <td>53.431818</td>\n",
       "    </tr>\n",
       "    <tr>\n",
       "      <th>3</th>\n",
       "      <td>11373</td>\n",
       "      <td>107124.0</td>\n",
       "      <td>50.500000</td>\n",
       "    </tr>\n",
       "    <tr>\n",
       "      <th>4</th>\n",
       "      <td>10468</td>\n",
       "      <td>437553.0</td>\n",
       "      <td>48.734626</td>\n",
       "    </tr>\n",
       "    <tr>\n",
       "      <th>5</th>\n",
       "      <td>11219</td>\n",
       "      <td>61211.0</td>\n",
       "      <td>46.659091</td>\n",
       "    </tr>\n",
       "    <tr>\n",
       "      <th>6</th>\n",
       "      <td>11236</td>\n",
       "      <td>72949.0</td>\n",
       "      <td>43.557351</td>\n",
       "    </tr>\n",
       "    <tr>\n",
       "      <th>7</th>\n",
       "      <td>11372</td>\n",
       "      <td>151470.0</td>\n",
       "      <td>42.568182</td>\n",
       "    </tr>\n",
       "    <tr>\n",
       "      <th>8</th>\n",
       "      <td>10466</td>\n",
       "      <td>85384.0</td>\n",
       "      <td>42.454545</td>\n",
       "    </tr>\n",
       "    <tr>\n",
       "      <th>9</th>\n",
       "      <td>11208</td>\n",
       "      <td>230696.0</td>\n",
       "      <td>41.931818</td>\n",
       "    </tr>\n",
       "  </tbody>\n",
       "</table>\n",
       "</div>"
      ],
      "text/plain": [
       "  zipcode  day_entries  day_cases\n",
       "0   11368     294890.0  74.227273\n",
       "1   10467     224035.0  56.931818\n",
       "2   10469     132524.0  53.431818\n",
       "3   11373     107124.0  50.500000\n",
       "4   10468     437553.0  48.734626\n",
       "5   11219      61211.0  46.659091\n",
       "6   11236      72949.0  43.557351\n",
       "7   11372     151470.0  42.568182\n",
       "8   10466      85384.0  42.454545\n",
       "9   11208     230696.0  41.931818"
      ]
     },
     "execution_count": 438,
     "metadata": {},
     "output_type": "execute_result"
    }
   ],
   "source": [
    "top_cases = (df_master.groupby(['zipcode'])[['day_entries','day_cases']]\n",
    " .agg({'day_entries': 'sum', 'day_cases': 'mean'})\n",
    " .sort_values('day_cases', ascending=False)\n",
    "             .reset_index())\n",
    "top_cases.head(10)"
   ]
  },
  {
   "cell_type": "code",
   "execution_count": 431,
   "metadata": {},
   "outputs": [],
   "source": [
    "top_entries_df = df_zip[df_zip.zipcode.isin(top_entries.zipcode.head(10))]"
   ]
  },
  {
   "cell_type": "code",
   "execution_count": 434,
   "metadata": {},
   "outputs": [],
   "source": [
    "top_cases_df = df_zip[df_zip.zipcode.isin(top_cases.zipcode.head(10))]"
   ]
  },
  {
   "cell_type": "code",
   "execution_count": 432,
   "metadata": {},
   "outputs": [
    {
     "data": {
      "text/plain": [
       "<matplotlib.axes._subplots.AxesSubplot at 0x7fbbd2b54850>"
      ]
     },
     "execution_count": 432,
     "metadata": {},
     "output_type": "execute_result"
    },
    {
     "data": {
      "image/png": "[encoded data removed]",
      "text/plain": [
       "<Figure size 432x288 with 1 Axes>"
      ]
     },
     "metadata": {
      "needs_background": "light"
     },
     "output_type": "display_data"
    }
   ],
   "source": [
    "sns.boxplot('zipcode', 'day_entries', data=top_entries_df[top_entries_df.day_entries < 40000])"
   ]
  },
  {
   "cell_type": "code",
   "execution_count": 436,
   "metadata": {},
   "outputs": [
    {
     "data": {
      "text/plain": [
       "<matplotlib.axes._subplots.AxesSubplot at 0x7fbbd2edf390>"
      ]
     },
     "execution_count": 436,
     "metadata": {},
     "output_type": "execute_result"
    },
    {
     "data": {
      "image/png": "[encoded data removed]",
      "text/plain": [
       "<Figure size 432x288 with 1 Axes>"
      ]
     },
     "metadata": {
      "needs_background": "light"
     },
     "output_type": "display_data"
    }
   ],
   "source": [
    "sns.boxplot('zipcode', 'day_cases', data=top_cases_df)"
   ]
  },
  {
   "cell_type": "code",
   "execution_count": 424,
   "metadata": {},
   "outputs": [
    {
     "data": {
      "text/plain": [
       "<seaborn.axisgrid.JointGrid at 0x7fbbd2393710>"
      ]
     },
     "execution_count": 424,
     "metadata": {},
     "output_type": "execute_result"
    },
    {
     "data": {
      "image/png": "[encoded data removed]",
      "text/plain": [
       "<Figure size 432x432 with 3 Axes>"
      ]
     },
     "metadata": {
      "needs_background": "light"
     },
     "output_type": "display_data"
    }
   ],
   "source": [
    "sns.jointplot('day_entries','day_cases', kind='regplot', xlim=(0,300000), ylim=(0,80), data=top_entries[top_entries.day_entries < 300000])"
   ]
  },
  {
   "cell_type": "code",
   "execution_count": 416,
   "metadata": {},
   "outputs": [
    {
     "data": {
      "text/html": [
       "<div>\n",
       "<style scoped>\n",
       "    .dataframe tbody tr th:only-of-type {\n",
       "        vertical-align: middle;\n",
       "    }\n",
       "\n",
       "    .dataframe tbody tr th {\n",
       "        vertical-align: top;\n",
       "    }\n",
       "\n",
       "    .dataframe thead th {\n",
       "        text-align: right;\n",
       "    }\n",
       "</style>\n",
       "<table border=\"1\" class=\"dataframe\">\n",
       "  <thead>\n",
       "    <tr style=\"text-align: right;\">\n",
       "      <th></th>\n",
       "      <th>zipcode</th>\n",
       "      <th>day_entries</th>\n",
       "      <th>day_cases</th>\n",
       "    </tr>\n",
       "  </thead>\n",
       "  <tbody>\n",
       "    <tr>\n",
       "      <th>0</th>\n",
       "      <td>11207</td>\n",
       "      <td>605938.0</td>\n",
       "      <td>36.590909</td>\n",
       "    </tr>\n",
       "  </tbody>\n",
       "</table>\n",
       "</div>"
      ],
      "text/plain": [
       "  zipcode  day_entries  day_cases\n",
       "0   11207     605938.0  36.590909"
      ]
     },
     "execution_count": 416,
     "metadata": {},
     "output_type": "execute_result"
    }
   ],
   "source": [
    "df_master[df_master.zipcode == '11207']"
   ]
  },
  {
   "cell_type": "code",
   "execution_count": null,
   "metadata": {},
   "outputs": [],
   "source": []
  }
 ],
 "metadata": {
  "kernelspec": {
   "display_name": "Python 3",
   "language": "python",
   "name": "python3"
  },
  "language_info": {
   "codemirror_mode": {
    "name": "ipython",
    "version": 3
   },
   "file_extension": ".py",
   "mimetype": "text/x-python",
   "name": "python",
   "nbconvert_exporter": "python",
   "pygments_lexer": "ipython3",
   "version": "3.7.6"
  }
 },
 "nbformat": 4,
 "nbformat_minor": 4
}
