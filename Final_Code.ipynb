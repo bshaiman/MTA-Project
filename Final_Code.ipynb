{
 "cells": [
  {
   "cell_type": "code",
   "execution_count": null,
   "metadata": {},
   "outputs": [],
   "source": [
    "#Read in MTA data\n",
    "dates1 = [200530, 200523, 200516, 200509, 200502, 200425, 200418, 200411, 200404, 200328, 200321]\n",
    "dates2 = [190525, 190518, 190511, 190504, 190427, 190420, 190413, 190406, 190330, 190323]\n",
    "def make_df(dates):\n",
    "    url = 'http://web.mta.info/developers/data/nyct/turnstile/turnstile_{}.txt'\n",
    "    dfs = []\n",
    "    for date in dates:\n",
    "        link = url.format(date)\n",
    "        dfx = pd.read_csv(link)\n",
    "        dfs.append(dfx)\n",
    "    df = pd.concat(dfs, ignore_index=True)\n",
    "    for column in df.columns:\n",
    "        df.rename(columns={column: column.lower().strip()}, inplace=True)\n",
    "    return df\n",
    "df_post = make_df(dates1)\n",
    "df_pre = make_df(dates2)"
   ]
  },
  {
   "cell_type": "code",
   "execution_count": null,
   "metadata": {},
   "outputs": [],
   "source": [
    "#Add datetime\n",
    "def add_datetime(df):\n",
    "    df['datetime'] = pd.to_datetime(df['date'] + ' ' + df['time'], format='%m/%d/%Y %H:%M:%S')\n",
    "add_datetime(df_pre)\n",
    "add_datetime(df_post)"
   ]
  },
  {
   "cell_type": "code",
   "execution_count": null,
   "metadata": {},
   "outputs": [],
   "source": [
    "\n",
    "df_stations = pd.read_csv('stations_zip.csv')"
   ]
  }
 ],
 "metadata": {
  "kernelspec": {
   "display_name": "Python 3",
   "language": "python",
   "name": "python3"
  },
  "language_info": {
   "codemirror_mode": {
    "name": "ipython",
    "version": 3
   },
   "file_extension": ".py",
   "mimetype": "text/x-python",
   "name": "python",
   "nbconvert_exporter": "python",
   "pygments_lexer": "ipython3",
   "version": "3.7.5"
  }
 },
 "nbformat": 4,
 "nbformat_minor": 2
}
