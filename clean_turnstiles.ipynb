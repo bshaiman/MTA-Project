{
 "cells": [
  {
   "cell_type": "code",
   "execution_count": 2,
   "metadata": {},
   "outputs": [],
   "source": [
    "import sys\n",
    "import pandas as pd"
   ]
  },
  {
   "cell_type": "markdown",
   "metadata": {},
   "source": [
    "Challenge 1:"
   ]
  },
  {
   "cell_type": "code",
   "execution_count": 89,
   "metadata": {},
   "outputs": [],
   "source": [
    "dates1 = [200530, 200523, 200516, 200509, 200502, 200425, 200418, 200411, 200404, 200328, 200321]\n",
    "dates2 = [190525, 190518, 190511, 190504, 190427, 190420, 190413, 190406, 190330, 190323]\n",
    "def make_df(dates):\n",
    "    url = 'http://web.mta.info/developers/data/nyct/turnstile/turnstile_{}.txt'\n",
    "    dfs = []\n",
    "    for date in dates:\n",
    "        link = url.format(date)\n",
    "        dfx = pd.read_csv(link)\n",
    "        dfs.append(dfx)\n",
    "    df = pd.concat(dfs, ignore_index=True)\n",
    "    for column in df.columns:\n",
    "        df.rename(columns={column: column.lower().strip()}, inplace=True)\n",
    "    return df\n",
    "\n",
    "df_post = make_df(dates1)\n",
    "df_pre = make_df(dates2)"
   ]
  },
  {
   "cell_type": "code",
   "execution_count": 34,
   "metadata": {},
   "outputs": [],
   "source": [
    "df.to_csv('turnstiles.csv')"
   ]
  },
  {
   "cell_type": "markdown",
   "metadata": {},
   "source": [
    "Challenge 2:"
   ]
  },
  {
   "cell_type": "code",
   "execution_count": 90,
   "metadata": {},
   "outputs": [],
   "source": [
    "def add_datetime(df):\n",
    "    df['datetime'] = pd.to_datetime(df['date'] + ' ' + df['time'], format='%m/%d/%Y %H:%M:%S')\n",
    "add_datetime(df_pre)\n",
    "add_datetime(df_post)"
   ]
  },
  {
   "cell_type": "code",
   "execution_count": 94,
   "metadata": {},
   "outputs": [
    {
     "data": {
      "text/html": [
       "<div>\n",
       "<style scoped>\n",
       "    .dataframe tbody tr th:only-of-type {\n",
       "        vertical-align: middle;\n",
       "    }\n",
       "\n",
       "    .dataframe tbody tr th {\n",
       "        vertical-align: top;\n",
       "    }\n",
       "\n",
       "    .dataframe thead th {\n",
       "        text-align: right;\n",
       "    }\n",
       "</style>\n",
       "<table border=\"1\" class=\"dataframe\">\n",
       "  <thead>\n",
       "    <tr style=\"text-align: right;\">\n",
       "      <th></th>\n",
       "      <th>scp</th>\n",
       "      <th>station</th>\n",
       "      <th>linename</th>\n",
       "      <th>date</th>\n",
       "      <th>time</th>\n",
       "      <th>entries</th>\n",
       "      <th>datetime</th>\n",
       "    </tr>\n",
       "  </thead>\n",
       "  <tbody>\n",
       "    <tr>\n",
       "      <th>13458</th>\n",
       "      <td>05-06-01</td>\n",
       "      <td>FULTON ST</td>\n",
       "      <td>ACJZ2345</td>\n",
       "      <td>05/29/2020</td>\n",
       "      <td>23:00:00</td>\n",
       "      <td>886746</td>\n",
       "      <td>2020-05-29 23:00:00</td>\n",
       "    </tr>\n",
       "    <tr>\n",
       "      <th>13457</th>\n",
       "      <td>05-06-01</td>\n",
       "      <td>FULTON ST</td>\n",
       "      <td>ACJZ2345</td>\n",
       "      <td>05/29/2020</td>\n",
       "      <td>19:00:00</td>\n",
       "      <td>886746</td>\n",
       "      <td>2020-05-29 19:00:00</td>\n",
       "    </tr>\n",
       "    <tr>\n",
       "      <th>13456</th>\n",
       "      <td>05-06-01</td>\n",
       "      <td>FULTON ST</td>\n",
       "      <td>ACJZ2345</td>\n",
       "      <td>05/29/2020</td>\n",
       "      <td>15:00:00</td>\n",
       "      <td>886746</td>\n",
       "      <td>2020-05-29 15:00:00</td>\n",
       "    </tr>\n",
       "    <tr>\n",
       "      <th>13455</th>\n",
       "      <td>05-06-01</td>\n",
       "      <td>FULTON ST</td>\n",
       "      <td>ACJZ2345</td>\n",
       "      <td>05/29/2020</td>\n",
       "      <td>11:00:00</td>\n",
       "      <td>886746</td>\n",
       "      <td>2020-05-29 11:00:00</td>\n",
       "    </tr>\n",
       "    <tr>\n",
       "      <th>13454</th>\n",
       "      <td>05-06-01</td>\n",
       "      <td>FULTON ST</td>\n",
       "      <td>ACJZ2345</td>\n",
       "      <td>05/29/2020</td>\n",
       "      <td>07:00:00</td>\n",
       "      <td>886746</td>\n",
       "      <td>2020-05-29 07:00:00</td>\n",
       "    </tr>\n",
       "  </tbody>\n",
       "</table>\n",
       "</div>"
      ],
      "text/plain": [
       "            scp    station  linename        date      time  entries  \\\n",
       "13458  05-06-01  FULTON ST  ACJZ2345  05/29/2020  23:00:00   886746   \n",
       "13457  05-06-01  FULTON ST  ACJZ2345  05/29/2020  19:00:00   886746   \n",
       "13456  05-06-01  FULTON ST  ACJZ2345  05/29/2020  15:00:00   886746   \n",
       "13455  05-06-01  FULTON ST  ACJZ2345  05/29/2020  11:00:00   886746   \n",
       "13454  05-06-01  FULTON ST  ACJZ2345  05/29/2020  07:00:00   886746   \n",
       "\n",
       "                 datetime  \n",
       "13458 2020-05-29 23:00:00  \n",
       "13457 2020-05-29 19:00:00  \n",
       "13456 2020-05-29 15:00:00  \n",
       "13455 2020-05-29 11:00:00  \n",
       "13454 2020-05-29 07:00:00  "
      ]
     },
     "execution_count": 94,
     "metadata": {},
     "output_type": "execute_result"
    }
   ],
   "source": [
    "df_post.head()"
   ]
  },
  {
   "cell_type": "code",
   "execution_count": 95,
   "metadata": {},
   "outputs": [
    {
     "data": {
      "text/html": [
       "<div>\n",
       "<style scoped>\n",
       "    .dataframe tbody tr th:only-of-type {\n",
       "        vertical-align: middle;\n",
       "    }\n",
       "\n",
       "    .dataframe tbody tr th {\n",
       "        vertical-align: top;\n",
       "    }\n",
       "\n",
       "    .dataframe thead th {\n",
       "        text-align: right;\n",
       "    }\n",
       "</style>\n",
       "<table border=\"1\" class=\"dataframe\">\n",
       "  <thead>\n",
       "    <tr style=\"text-align: right;\">\n",
       "      <th></th>\n",
       "      <th>scp</th>\n",
       "      <th>station</th>\n",
       "      <th>linename</th>\n",
       "      <th>date</th>\n",
       "      <th>time</th>\n",
       "      <th>entries</th>\n",
       "      <th>datetime</th>\n",
       "    </tr>\n",
       "  </thead>\n",
       "  <tbody>\n",
       "    <tr>\n",
       "      <th>12831</th>\n",
       "      <td>05-06-01</td>\n",
       "      <td>FULTON ST</td>\n",
       "      <td>ACJZ2345</td>\n",
       "      <td>05/24/2019</td>\n",
       "      <td>23:00:00</td>\n",
       "      <td>657200</td>\n",
       "      <td>2019-05-24 23:00:00</td>\n",
       "    </tr>\n",
       "    <tr>\n",
       "      <th>12830</th>\n",
       "      <td>05-06-01</td>\n",
       "      <td>FULTON ST</td>\n",
       "      <td>ACJZ2345</td>\n",
       "      <td>05/24/2019</td>\n",
       "      <td>19:00:00</td>\n",
       "      <td>657107</td>\n",
       "      <td>2019-05-24 19:00:00</td>\n",
       "    </tr>\n",
       "    <tr>\n",
       "      <th>12829</th>\n",
       "      <td>05-06-01</td>\n",
       "      <td>FULTON ST</td>\n",
       "      <td>ACJZ2345</td>\n",
       "      <td>05/24/2019</td>\n",
       "      <td>15:00:00</td>\n",
       "      <td>656624</td>\n",
       "      <td>2019-05-24 15:00:00</td>\n",
       "    </tr>\n",
       "    <tr>\n",
       "      <th>12828</th>\n",
       "      <td>05-06-01</td>\n",
       "      <td>FULTON ST</td>\n",
       "      <td>ACJZ2345</td>\n",
       "      <td>05/24/2019</td>\n",
       "      <td>11:00:00</td>\n",
       "      <td>656369</td>\n",
       "      <td>2019-05-24 11:00:00</td>\n",
       "    </tr>\n",
       "    <tr>\n",
       "      <th>12827</th>\n",
       "      <td>05-06-01</td>\n",
       "      <td>FULTON ST</td>\n",
       "      <td>ACJZ2345</td>\n",
       "      <td>05/24/2019</td>\n",
       "      <td>07:00:00</td>\n",
       "      <td>656281</td>\n",
       "      <td>2019-05-24 07:00:00</td>\n",
       "    </tr>\n",
       "  </tbody>\n",
       "</table>\n",
       "</div>"
      ],
      "text/plain": [
       "            scp    station  linename        date      time  entries  \\\n",
       "12831  05-06-01  FULTON ST  ACJZ2345  05/24/2019  23:00:00   657200   \n",
       "12830  05-06-01  FULTON ST  ACJZ2345  05/24/2019  19:00:00   657107   \n",
       "12829  05-06-01  FULTON ST  ACJZ2345  05/24/2019  15:00:00   656624   \n",
       "12828  05-06-01  FULTON ST  ACJZ2345  05/24/2019  11:00:00   656369   \n",
       "12827  05-06-01  FULTON ST  ACJZ2345  05/24/2019  07:00:00   656281   \n",
       "\n",
       "                 datetime  \n",
       "12831 2019-05-24 23:00:00  \n",
       "12830 2019-05-24 19:00:00  \n",
       "12829 2019-05-24 15:00:00  \n",
       "12828 2019-05-24 11:00:00  \n",
       "12827 2019-05-24 07:00:00  "
      ]
     },
     "execution_count": 95,
     "metadata": {},
     "output_type": "execute_result"
    }
   ],
   "source": [
    "df_pre.head()"
   ]
  },
  {
   "cell_type": "markdown",
   "metadata": {},
   "source": [
    "Challenge 3 and simplifying the data to make it more manageable and portable as csv"
   ]
  },
  {
   "cell_type": "code",
   "execution_count": 93,
   "metadata": {},
   "outputs": [],
   "source": [
    "def clean_df(df):\n",
    "    df.drop(columns=['c/a','unit','exits','desc','division'], inplace=True)\n",
    "    df.sort_values(['scp','station','datetime'], inplace=True, ascending=False)\n",
    "    df.drop_duplicates(subset=['scp','station','datetime'], inplace=True)\n",
    "clean_df(df_pre)\n",
    "clean_df(df_post)"
   ]
  },
  {
   "cell_type": "code",
   "execution_count": 96,
   "metadata": {},
   "outputs": [],
   "source": [
    "def make_daily_counts(df):\n",
    "    df_daily_counts = df.groupby(['scp','station','date']).entries.first().reset_index()\n",
    "    return df_daily_counts\n",
    "pre_dailies = make_daily_counts(df_pre)\n",
    "post_dailies = make_daily_counts(df_post)"
   ]
  },
  {
   "cell_type": "code",
   "execution_count": 101,
   "metadata": {},
   "outputs": [
    {
     "data": {
      "text/html": [
       "<div>\n",
       "<style scoped>\n",
       "    .dataframe tbody tr th:only-of-type {\n",
       "        vertical-align: middle;\n",
       "    }\n",
       "\n",
       "    .dataframe tbody tr th {\n",
       "        vertical-align: top;\n",
       "    }\n",
       "\n",
       "    .dataframe thead th {\n",
       "        text-align: right;\n",
       "    }\n",
       "</style>\n",
       "<table border=\"1\" class=\"dataframe\">\n",
       "  <thead>\n",
       "    <tr style=\"text-align: right;\">\n",
       "      <th></th>\n",
       "      <th>scp</th>\n",
       "      <th>station</th>\n",
       "      <th>date</th>\n",
       "      <th>entries</th>\n",
       "      <th>prev_date</th>\n",
       "      <th>prev_entries</th>\n",
       "    </tr>\n",
       "  </thead>\n",
       "  <tbody>\n",
       "    <tr>\n",
       "      <th>1</th>\n",
       "      <td>00-00-00</td>\n",
       "      <td>1 AV</td>\n",
       "      <td>05/12/2020</td>\n",
       "      <td>15455022</td>\n",
       "      <td>05/11/2020</td>\n",
       "      <td>15455022.0</td>\n",
       "    </tr>\n",
       "    <tr>\n",
       "      <th>2</th>\n",
       "      <td>00-00-00</td>\n",
       "      <td>1 AV</td>\n",
       "      <td>05/13/2020</td>\n",
       "      <td>15455022</td>\n",
       "      <td>05/12/2020</td>\n",
       "      <td>15455022.0</td>\n",
       "    </tr>\n",
       "    <tr>\n",
       "      <th>3</th>\n",
       "      <td>00-00-00</td>\n",
       "      <td>1 AV</td>\n",
       "      <td>05/14/2020</td>\n",
       "      <td>15455022</td>\n",
       "      <td>05/13/2020</td>\n",
       "      <td>15455022.0</td>\n",
       "    </tr>\n",
       "    <tr>\n",
       "      <th>4</th>\n",
       "      <td>00-00-00</td>\n",
       "      <td>1 AV</td>\n",
       "      <td>05/15/2020</td>\n",
       "      <td>15455022</td>\n",
       "      <td>05/14/2020</td>\n",
       "      <td>15455022.0</td>\n",
       "    </tr>\n",
       "    <tr>\n",
       "      <th>5</th>\n",
       "      <td>00-00-00</td>\n",
       "      <td>1 AV</td>\n",
       "      <td>05/16/2020</td>\n",
       "      <td>15455022</td>\n",
       "      <td>05/15/2020</td>\n",
       "      <td>15455022.0</td>\n",
       "    </tr>\n",
       "  </tbody>\n",
       "</table>\n",
       "</div>"
      ],
      "text/plain": [
       "        scp station        date   entries   prev_date  prev_entries\n",
       "1  00-00-00    1 AV  05/12/2020  15455022  05/11/2020    15455022.0\n",
       "2  00-00-00    1 AV  05/13/2020  15455022  05/12/2020    15455022.0\n",
       "3  00-00-00    1 AV  05/14/2020  15455022  05/13/2020    15455022.0\n",
       "4  00-00-00    1 AV  05/15/2020  15455022  05/14/2020    15455022.0\n",
       "5  00-00-00    1 AV  05/16/2020  15455022  05/15/2020    15455022.0"
      ]
     },
     "execution_count": 101,
     "metadata": {},
     "output_type": "execute_result"
    }
   ],
   "source": [
    "post_dailies.head()"
   ]
  },
  {
   "cell_type": "code",
   "execution_count": 102,
   "metadata": {},
   "outputs": [
    {
     "data": {
      "text/html": [
       "<div>\n",
       "<style scoped>\n",
       "    .dataframe tbody tr th:only-of-type {\n",
       "        vertical-align: middle;\n",
       "    }\n",
       "\n",
       "    .dataframe tbody tr th {\n",
       "        vertical-align: top;\n",
       "    }\n",
       "\n",
       "    .dataframe thead th {\n",
       "        text-align: right;\n",
       "    }\n",
       "</style>\n",
       "<table border=\"1\" class=\"dataframe\">\n",
       "  <thead>\n",
       "    <tr style=\"text-align: right;\">\n",
       "      <th></th>\n",
       "      <th>scp</th>\n",
       "      <th>station</th>\n",
       "      <th>date</th>\n",
       "      <th>entries</th>\n",
       "      <th>prev_date</th>\n",
       "      <th>prev_entries</th>\n",
       "    </tr>\n",
       "  </thead>\n",
       "  <tbody>\n",
       "    <tr>\n",
       "      <th>1</th>\n",
       "      <td>00-00-00</td>\n",
       "      <td>1 AV</td>\n",
       "      <td>03/17/2019</td>\n",
       "      <td>14511518</td>\n",
       "      <td>03/16/2019</td>\n",
       "      <td>14511518.0</td>\n",
       "    </tr>\n",
       "    <tr>\n",
       "      <th>2</th>\n",
       "      <td>00-00-00</td>\n",
       "      <td>1 AV</td>\n",
       "      <td>03/18/2019</td>\n",
       "      <td>14513422</td>\n",
       "      <td>03/17/2019</td>\n",
       "      <td>14511518.0</td>\n",
       "    </tr>\n",
       "    <tr>\n",
       "      <th>3</th>\n",
       "      <td>00-00-00</td>\n",
       "      <td>1 AV</td>\n",
       "      <td>03/19/2019</td>\n",
       "      <td>14516664</td>\n",
       "      <td>03/18/2019</td>\n",
       "      <td>14513422.0</td>\n",
       "    </tr>\n",
       "    <tr>\n",
       "      <th>4</th>\n",
       "      <td>00-00-00</td>\n",
       "      <td>1 AV</td>\n",
       "      <td>03/20/2019</td>\n",
       "      <td>14520483</td>\n",
       "      <td>03/19/2019</td>\n",
       "      <td>14516664.0</td>\n",
       "    </tr>\n",
       "    <tr>\n",
       "      <th>5</th>\n",
       "      <td>00-00-00</td>\n",
       "      <td>1 AV</td>\n",
       "      <td>03/21/2019</td>\n",
       "      <td>14524635</td>\n",
       "      <td>03/20/2019</td>\n",
       "      <td>14520483.0</td>\n",
       "    </tr>\n",
       "  </tbody>\n",
       "</table>\n",
       "</div>"
      ],
      "text/plain": [
       "        scp station        date   entries   prev_date  prev_entries\n",
       "1  00-00-00    1 AV  03/17/2019  14511518  03/16/2019    14511518.0\n",
       "2  00-00-00    1 AV  03/18/2019  14513422  03/17/2019    14511518.0\n",
       "3  00-00-00    1 AV  03/19/2019  14516664  03/18/2019    14513422.0\n",
       "4  00-00-00    1 AV  03/20/2019  14520483  03/19/2019    14516664.0\n",
       "5  00-00-00    1 AV  03/21/2019  14524635  03/20/2019    14520483.0"
      ]
     },
     "execution_count": 102,
     "metadata": {},
     "output_type": "execute_result"
    }
   ],
   "source": [
    "pre_dailies.head()"
   ]
  },
  {
   "cell_type": "code",
   "execution_count": 99,
   "metadata": {},
   "outputs": [],
   "source": [
    "def add_prev(df):\n",
    "    df[['prev_date', 'prev_entries']] = df.groupby(['scp','station'])[['date','entries']].apply(lambda line: line.shift(1))\n",
    "\n",
    "add_prev(pre_dailies)\n",
    "add_prev(post_dailies)"
   ]
  },
  {
   "cell_type": "code",
   "execution_count": 100,
   "metadata": {},
   "outputs": [],
   "source": [
    "def rmna(df):\n",
    "    df.dropna(subset=['prev_date'], axis=0, inplace=True)\n",
    "rmna(pre_dailies)\n",
    "rmna(post_dailies)"
   ]
  },
  {
   "cell_type": "code",
   "execution_count": 73,
   "metadata": {},
   "outputs": [],
   "source": [
    "import numpy as np"
   ]
  },
  {
   "cell_type": "code",
   "execution_count": 106,
   "metadata": {},
   "outputs": [],
   "source": [
    "def get_dailies(row):\n",
    "    delta = row.entries - row.prev_entries\n",
    "    if delta < 0:\n",
    "        delta = -delta\n",
    "    if delta > 100000:\n",
    "        delta = min(row.entries, row.prev_entries)\n",
    "    if delta > 100000:\n",
    "        return np.nan\n",
    "    return delta\n",
    "\n",
    "pre_dailies['day_count'] = pre_dailies.apply(get_dailies, axis=1)\n",
    "post_dailies['day_count'] = post_dailies.apply(get_dailies, axis=1)"
   ]
  },
  {
   "cell_type": "code",
   "execution_count": 133,
   "metadata": {},
   "outputs": [
    {
     "data": {
      "text/html": [
       "<div>\n",
       "<style scoped>\n",
       "    .dataframe tbody tr th:only-of-type {\n",
       "        vertical-align: middle;\n",
       "    }\n",
       "\n",
       "    .dataframe tbody tr th {\n",
       "        vertical-align: top;\n",
       "    }\n",
       "\n",
       "    .dataframe thead th {\n",
       "        text-align: right;\n",
       "    }\n",
       "</style>\n",
       "<table border=\"1\" class=\"dataframe\">\n",
       "  <thead>\n",
       "    <tr style=\"text-align: right;\">\n",
       "      <th></th>\n",
       "      <th>scp</th>\n",
       "      <th>station</th>\n",
       "      <th>date</th>\n",
       "      <th>entries</th>\n",
       "      <th>prev_date</th>\n",
       "      <th>prev_entries</th>\n",
       "      <th>day_count</th>\n",
       "    </tr>\n",
       "  </thead>\n",
       "  <tbody>\n",
       "    <tr>\n",
       "      <th>191454</th>\n",
       "      <td>00-06-00</td>\n",
       "      <td>PARK PLACE</td>\n",
       "      <td>05/06/2020</td>\n",
       "      <td>473740</td>\n",
       "      <td>05/05/2020</td>\n",
       "      <td>473739.0</td>\n",
       "      <td>1.0</td>\n",
       "    </tr>\n",
       "  </tbody>\n",
       "</table>\n",
       "</div>"
      ],
      "text/plain": [
       "             scp     station        date  entries   prev_date  prev_entries  \\\n",
       "191454  00-06-00  PARK PLACE  05/06/2020   473740  05/05/2020      473739.0   \n",
       "\n",
       "        day_count  \n",
       "191454        1.0  "
      ]
     },
     "execution_count": 133,
     "metadata": {},
     "output_type": "execute_result"
    }
   ],
   "source": [
    "post_dailies.sample()"
   ]
  },
  {
   "cell_type": "code",
   "execution_count": 151,
   "metadata": {},
   "outputs": [
    {
     "data": {
      "text/html": [
       "<div>\n",
       "<style scoped>\n",
       "    .dataframe tbody tr th:only-of-type {\n",
       "        vertical-align: middle;\n",
       "    }\n",
       "\n",
       "    .dataframe tbody tr th {\n",
       "        vertical-align: top;\n",
       "    }\n",
       "\n",
       "    .dataframe thead th {\n",
       "        text-align: right;\n",
       "    }\n",
       "</style>\n",
       "<table border=\"1\" class=\"dataframe\">\n",
       "  <thead>\n",
       "    <tr style=\"text-align: right;\">\n",
       "      <th></th>\n",
       "      <th>scp</th>\n",
       "      <th>station</th>\n",
       "      <th>date</th>\n",
       "      <th>entries</th>\n",
       "      <th>prev_date</th>\n",
       "      <th>prev_entries</th>\n",
       "      <th>day_count</th>\n",
       "    </tr>\n",
       "  </thead>\n",
       "  <tbody>\n",
       "    <tr>\n",
       "      <th>1</th>\n",
       "      <td>00-00-00</td>\n",
       "      <td>1 AV</td>\n",
       "      <td>03/17/2019</td>\n",
       "      <td>14511518</td>\n",
       "      <td>03/16/2019</td>\n",
       "      <td>14511518.0</td>\n",
       "      <td>0.0</td>\n",
       "    </tr>\n",
       "    <tr>\n",
       "      <th>2</th>\n",
       "      <td>00-00-00</td>\n",
       "      <td>1 AV</td>\n",
       "      <td>03/18/2019</td>\n",
       "      <td>14513422</td>\n",
       "      <td>03/17/2019</td>\n",
       "      <td>14511518.0</td>\n",
       "      <td>1904.0</td>\n",
       "    </tr>\n",
       "    <tr>\n",
       "      <th>3</th>\n",
       "      <td>00-00-00</td>\n",
       "      <td>1 AV</td>\n",
       "      <td>03/19/2019</td>\n",
       "      <td>14516664</td>\n",
       "      <td>03/18/2019</td>\n",
       "      <td>14513422.0</td>\n",
       "      <td>3242.0</td>\n",
       "    </tr>\n",
       "    <tr>\n",
       "      <th>4</th>\n",
       "      <td>00-00-00</td>\n",
       "      <td>1 AV</td>\n",
       "      <td>03/20/2019</td>\n",
       "      <td>14520483</td>\n",
       "      <td>03/19/2019</td>\n",
       "      <td>14516664.0</td>\n",
       "      <td>3819.0</td>\n",
       "    </tr>\n",
       "    <tr>\n",
       "      <th>5</th>\n",
       "      <td>00-00-00</td>\n",
       "      <td>1 AV</td>\n",
       "      <td>03/21/2019</td>\n",
       "      <td>14524635</td>\n",
       "      <td>03/20/2019</td>\n",
       "      <td>14520483.0</td>\n",
       "      <td>4152.0</td>\n",
       "    </tr>\n",
       "  </tbody>\n",
       "</table>\n",
       "</div>"
      ],
      "text/plain": [
       "        scp station        date   entries   prev_date  prev_entries  day_count\n",
       "1  00-00-00    1 AV  03/17/2019  14511518  03/16/2019    14511518.0        0.0\n",
       "2  00-00-00    1 AV  03/18/2019  14513422  03/17/2019    14511518.0     1904.0\n",
       "3  00-00-00    1 AV  03/19/2019  14516664  03/18/2019    14513422.0     3242.0\n",
       "4  00-00-00    1 AV  03/20/2019  14520483  03/19/2019    14516664.0     3819.0\n",
       "5  00-00-00    1 AV  03/21/2019  14524635  03/20/2019    14520483.0     4152.0"
      ]
     },
     "execution_count": 151,
     "metadata": {},
     "output_type": "execute_result"
    }
   ],
   "source": [
    "pre_dailies.head()"
   ]
  },
  {
   "cell_type": "markdown",
   "metadata": {},
   "source": [
    "Restart here if you don't want to reload everything from above"
   ]
  },
  {
   "cell_type": "code",
   "execution_count": 109,
   "metadata": {},
   "outputs": [],
   "source": [
    "pre_dailies = pd.read_csv('2019_mta_counts.csv')\n",
    "post_dailies = pd.read_csv('2020_mta_counts.csv')"
   ]
  },
  {
   "cell_type": "markdown",
   "metadata": {},
   "source": [
    "Challenge 4:"
   ]
  },
  {
   "cell_type": "code",
   "execution_count": 112,
   "metadata": {},
   "outputs": [],
   "source": [
    "%matplotlib inline\n",
    "import matplotlib.pyplot as plt"
   ]
  },
  {
   "cell_type": "code",
   "execution_count": 136,
   "metadata": {},
   "outputs": [],
   "source": [
    "mask = ((pre_dailies.scp == '00-00-02') &\n",
    "        (pre_dailies.station == 'CLARK ST'))\n",
    "pre_counts = pre_dailies[mask].day_count\n",
    "pre_dates = pre_dates = pre_dailies[mask].date"
   ]
  },
  {
   "cell_type": "code",
   "execution_count": 137,
   "metadata": {},
   "outputs": [],
   "source": [
    "mask = ((post_dailies.scp == '00-00-02') &\n",
    "        (post_dailies.station == 'CLARK ST'))\n",
    "post_counts = post_dailies[mask].day_count\n",
    "post_dates = post_dailies[mask].date"
   ]
  },
  {
   "cell_type": "code",
   "execution_count": 148,
   "metadata": {},
   "outputs": [
    {
     "data": {
      "text/plain": [
       "[<matplotlib.lines.Line2D at 0x7fba79301150>]"
      ]
     },
     "execution_count": 148,
     "metadata": {},
     "output_type": "execute_result"
    },
    {
     "data": {
      "image/png": "[encoded data removed]",
      "text/plain": [
       "<Figure size 720x216 with 1 Axes>"
      ]
     },
     "metadata": {
      "needs_background": "light"
     },
     "output_type": "display_data"
    }
   ],
   "source": [
    "plt.figure(figsize=(10,3))\n",
    "plt.plot(pre_dates,pre_counts)\n",
    "plt.plot(pre_dates,post_counts[:69])"
   ]
  },
  {
   "cell_type": "markdown",
   "metadata": {},
   "source": [
    "Challenge 5"
   ]
  },
  {
   "cell_type": "code",
   "execution_count": 195,
   "metadata": {},
   "outputs": [
    {
     "data": {
      "text/html": [
       "<div>\n",
       "<style scoped>\n",
       "    .dataframe tbody tr th:only-of-type {\n",
       "        vertical-align: middle;\n",
       "    }\n",
       "\n",
       "    .dataframe tbody tr th {\n",
       "        vertical-align: top;\n",
       "    }\n",
       "\n",
       "    .dataframe thead th {\n",
       "        text-align: right;\n",
       "    }\n",
       "</style>\n",
       "<table border=\"1\" class=\"dataframe\">\n",
       "  <thead>\n",
       "    <tr style=\"text-align: right;\">\n",
       "      <th></th>\n",
       "      <th>station</th>\n",
       "      <th>date</th>\n",
       "      <th>day_count</th>\n",
       "    </tr>\n",
       "  </thead>\n",
       "  <tbody>\n",
       "    <tr>\n",
       "      <th>25990</th>\n",
       "      <td>ZEREGA AV</td>\n",
       "      <td>05/20/2019</td>\n",
       "      <td>2745.0</td>\n",
       "    </tr>\n",
       "    <tr>\n",
       "      <th>25991</th>\n",
       "      <td>ZEREGA AV</td>\n",
       "      <td>05/21/2019</td>\n",
       "      <td>2856.0</td>\n",
       "    </tr>\n",
       "    <tr>\n",
       "      <th>25992</th>\n",
       "      <td>ZEREGA AV</td>\n",
       "      <td>05/22/2019</td>\n",
       "      <td>2872.0</td>\n",
       "    </tr>\n",
       "    <tr>\n",
       "      <th>25993</th>\n",
       "      <td>ZEREGA AV</td>\n",
       "      <td>05/23/2019</td>\n",
       "      <td>2768.0</td>\n",
       "    </tr>\n",
       "    <tr>\n",
       "      <th>25994</th>\n",
       "      <td>ZEREGA AV</td>\n",
       "      <td>05/24/2019</td>\n",
       "      <td>2737.0</td>\n",
       "    </tr>\n",
       "  </tbody>\n",
       "</table>\n",
       "</div>"
      ],
      "text/plain": [
       "         station        date  day_count\n",
       "25990  ZEREGA AV  05/20/2019     2745.0\n",
       "25991  ZEREGA AV  05/21/2019     2856.0\n",
       "25992  ZEREGA AV  05/22/2019     2872.0\n",
       "25993  ZEREGA AV  05/23/2019     2768.0\n",
       "25994  ZEREGA AV  05/24/2019     2737.0"
      ]
     },
     "execution_count": 195,
     "metadata": {},
     "output_type": "execute_result"
    }
   ],
   "source": [
    "pre_stations = pre_dailies.groupby(['station', 'date'])['day_count'].sum().reset_index()\n",
    "pre_stations.tail()"
   ]
  },
  {
   "cell_type": "code",
   "execution_count": 161,
   "metadata": {},
   "outputs": [],
   "source": [
    "post_stations = post_dailies.groupby(['station', 'date'])['day_count'].sum().reset_index()"
   ]
  },
  {
   "cell_type": "markdown",
   "metadata": {},
   "source": [
    "Challenge 6"
   ]
  },
  {
   "cell_type": "code",
   "execution_count": 190,
   "metadata": {},
   "outputs": [],
   "source": [
    "from collections import defaultdict"
   ]
  },
  {
   "cell_type": "code",
   "execution_count": 209,
   "metadata": {},
   "outputs": [],
   "source": [
    "pre_time_series = defaultdict(list)\n",
    "for row in pre_stations.itertuples():\n",
    "    pre_time_series[row[1]].append((row[2], row[3]))"
   ]
  },
  {
   "cell_type": "code",
   "execution_count": 198,
   "metadata": {},
   "outputs": [],
   "source": [
    "post_time_series = defaultdict(list)\n",
    "for row in post_stations.itertuples():\n",
    "    post_time_series[row[1]].append((row[2], row[3]))"
   ]
  },
  {
   "cell_type": "markdown",
   "metadata": {},
   "source": [
    "Challenge 7:"
   ]
  },
  {
   "cell_type": "code",
   "execution_count": 217,
   "metadata": {},
   "outputs": [
    {
     "data": {
      "text/plain": [
       "[<matplotlib.lines.Line2D at 0x7fba79218750>]"
      ]
     },
     "execution_count": 217,
     "metadata": {},
     "output_type": "execute_result"
    },
    {
     "data": {
      "image/png": "[encoded data removed]",
      "text/plain": [
       "<Figure size 432x288 with 1 Axes>"
      ]
     },
     "metadata": {
      "needs_background": "light"
     },
     "output_type": "display_data"
    }
   ],
   "source": [
    "unzipped = list(zip(*pre_time_series['CLARK ST']))\n",
    "dates = unzipped[0]\n",
    "counts = unzipped[1]\n",
    "plt.plot(dates, counts)\n",
    "unz = list(zip(*post_time_series['CLARK ST']))\n",
    "date = unz[0]\n",
    "count = unz[1]\n",
    "plt.plot(date, count)"
   ]
  },
  {
   "cell_type": "code",
   "execution_count": null,
   "metadata": {},
   "outputs": [],
   "source": []
  }
 ],
 "metadata": {
  "kernelspec": {
   "display_name": "Python 3",
   "language": "python",
   "name": "python3"
  },
  "language_info": {
   "codemirror_mode": {
    "name": "ipython",
    "version": 3
   },
   "file_extension": ".py",
   "mimetype": "text/x-python",
   "name": "python",
   "nbconvert_exporter": "python",
   "pygments_lexer": "ipython3",
   "version": "3.7.6"
  }
 },
 "nbformat": 4,
 "nbformat_minor": 4
}
