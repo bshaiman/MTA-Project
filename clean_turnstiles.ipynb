{
 "cells": [
  {
   "cell_type": "code",
   "execution_count": 246,
   "metadata": {},
   "outputs": [],
   "source": [
    "import sys\n",
    "import pandas as pd"
   ]
  },
  {
   "cell_type": "markdown",
   "metadata": {},
   "source": [
    "Challenge 1:"
   ]
  },
  {
   "cell_type": "code",
   "execution_count": 248,
   "metadata": {},
   "outputs": [],
   "source": [
    "dates1 = [200530, 200523, 200516, 200509, 200502, 200425, 200418, 200411, 200404, 200328, 200321]\n",
    "dates2 = [190525, 190518, 190511, 190504, 190427, 190420, 190413, 190406, 190330, 190323, 190316]\n",
    "def make_df(dates):\n",
    "    url = 'http://web.mta.info/developers/data/nyct/turnstile/turnstile_{}.txt'\n",
    "    dfs = []\n",
    "    for date in dates:\n",
    "        link = url.format(date)\n",
    "        dfx = pd.read_csv(link)\n",
    "        dfs.append(dfx)\n",
    "    df = pd.concat(dfs, ignore_index=True)\n",
    "    for column in df.columns:\n",
    "        df.rename(columns={column: column.lower().strip()}, inplace=True)\n",
    "    return df\n",
    "\n",
    "df_post = make_df(dates1)\n",
    "df_pre = make_df(dates2)"
   ]
  },
  {
   "cell_type": "markdown",
   "metadata": {},
   "source": [
    "Challenge 2:"
   ]
  },
  {
   "cell_type": "code",
   "execution_count": 249,
   "metadata": {},
   "outputs": [],
   "source": [
    "def add_datetime(df):\n",
    "    df['datetime'] = pd.to_datetime(df['date'] + ' ' + df['time'], format='%m/%d/%Y %H:%M:%S')\n",
    "add_datetime(df_pre)\n",
    "add_datetime(df_post)"
   ]
  },
  {
   "cell_type": "code",
   "execution_count": 250,
   "metadata": {},
   "outputs": [
    {
     "data": {
      "text/html": [
       "<div>\n",
       "<style scoped>\n",
       "    .dataframe tbody tr th:only-of-type {\n",
       "        vertical-align: middle;\n",
       "    }\n",
       "\n",
       "    .dataframe tbody tr th {\n",
       "        vertical-align: top;\n",
       "    }\n",
       "\n",
       "    .dataframe thead th {\n",
       "        text-align: right;\n",
       "    }\n",
       "</style>\n",
       "<table border=\"1\" class=\"dataframe\">\n",
       "  <thead>\n",
       "    <tr style=\"text-align: right;\">\n",
       "      <th></th>\n",
       "      <th>c/a</th>\n",
       "      <th>unit</th>\n",
       "      <th>scp</th>\n",
       "      <th>station</th>\n",
       "      <th>linename</th>\n",
       "      <th>division</th>\n",
       "      <th>date</th>\n",
       "      <th>time</th>\n",
       "      <th>desc</th>\n",
       "      <th>entries</th>\n",
       "      <th>exits</th>\n",
       "      <th>datetime</th>\n",
       "    </tr>\n",
       "  </thead>\n",
       "  <tbody>\n",
       "    <tr>\n",
       "      <th>0</th>\n",
       "      <td>A002</td>\n",
       "      <td>R051</td>\n",
       "      <td>02-00-00</td>\n",
       "      <td>59 ST</td>\n",
       "      <td>NQR456W</td>\n",
       "      <td>BMT</td>\n",
       "      <td>05/23/2020</td>\n",
       "      <td>00:00:00</td>\n",
       "      <td>REGULAR</td>\n",
       "      <td>7418881</td>\n",
       "      <td>2519932</td>\n",
       "      <td>2020-05-23 00:00:00</td>\n",
       "    </tr>\n",
       "    <tr>\n",
       "      <th>1</th>\n",
       "      <td>A002</td>\n",
       "      <td>R051</td>\n",
       "      <td>02-00-00</td>\n",
       "      <td>59 ST</td>\n",
       "      <td>NQR456W</td>\n",
       "      <td>BMT</td>\n",
       "      <td>05/23/2020</td>\n",
       "      <td>04:00:00</td>\n",
       "      <td>REGULAR</td>\n",
       "      <td>7418881</td>\n",
       "      <td>2519933</td>\n",
       "      <td>2020-05-23 04:00:00</td>\n",
       "    </tr>\n",
       "    <tr>\n",
       "      <th>2</th>\n",
       "      <td>A002</td>\n",
       "      <td>R051</td>\n",
       "      <td>02-00-00</td>\n",
       "      <td>59 ST</td>\n",
       "      <td>NQR456W</td>\n",
       "      <td>BMT</td>\n",
       "      <td>05/23/2020</td>\n",
       "      <td>08:00:00</td>\n",
       "      <td>REGULAR</td>\n",
       "      <td>7418886</td>\n",
       "      <td>2519940</td>\n",
       "      <td>2020-05-23 08:00:00</td>\n",
       "    </tr>\n",
       "    <tr>\n",
       "      <th>3</th>\n",
       "      <td>A002</td>\n",
       "      <td>R051</td>\n",
       "      <td>02-00-00</td>\n",
       "      <td>59 ST</td>\n",
       "      <td>NQR456W</td>\n",
       "      <td>BMT</td>\n",
       "      <td>05/23/2020</td>\n",
       "      <td>12:00:00</td>\n",
       "      <td>REGULAR</td>\n",
       "      <td>7418899</td>\n",
       "      <td>2519951</td>\n",
       "      <td>2020-05-23 12:00:00</td>\n",
       "    </tr>\n",
       "    <tr>\n",
       "      <th>4</th>\n",
       "      <td>A002</td>\n",
       "      <td>R051</td>\n",
       "      <td>02-00-00</td>\n",
       "      <td>59 ST</td>\n",
       "      <td>NQR456W</td>\n",
       "      <td>BMT</td>\n",
       "      <td>05/23/2020</td>\n",
       "      <td>16:00:00</td>\n",
       "      <td>REGULAR</td>\n",
       "      <td>7418933</td>\n",
       "      <td>2519964</td>\n",
       "      <td>2020-05-23 16:00:00</td>\n",
       "    </tr>\n",
       "  </tbody>\n",
       "</table>\n",
       "</div>"
      ],
      "text/plain": [
       "    c/a  unit       scp station linename division        date      time  \\\n",
       "0  A002  R051  02-00-00   59 ST  NQR456W      BMT  05/23/2020  00:00:00   \n",
       "1  A002  R051  02-00-00   59 ST  NQR456W      BMT  05/23/2020  04:00:00   \n",
       "2  A002  R051  02-00-00   59 ST  NQR456W      BMT  05/23/2020  08:00:00   \n",
       "3  A002  R051  02-00-00   59 ST  NQR456W      BMT  05/23/2020  12:00:00   \n",
       "4  A002  R051  02-00-00   59 ST  NQR456W      BMT  05/23/2020  16:00:00   \n",
       "\n",
       "      desc  entries    exits            datetime  \n",
       "0  REGULAR  7418881  2519932 2020-05-23 00:00:00  \n",
       "1  REGULAR  7418881  2519933 2020-05-23 04:00:00  \n",
       "2  REGULAR  7418886  2519940 2020-05-23 08:00:00  \n",
       "3  REGULAR  7418899  2519951 2020-05-23 12:00:00  \n",
       "4  REGULAR  7418933  2519964 2020-05-23 16:00:00  "
      ]
     },
     "execution_count": 250,
     "metadata": {},
     "output_type": "execute_result"
    }
   ],
   "source": [
    "df_post.head()"
   ]
  },
  {
   "cell_type": "code",
   "execution_count": 251,
   "metadata": {},
   "outputs": [
    {
     "data": {
      "text/html": [
       "<div>\n",
       "<style scoped>\n",
       "    .dataframe tbody tr th:only-of-type {\n",
       "        vertical-align: middle;\n",
       "    }\n",
       "\n",
       "    .dataframe tbody tr th {\n",
       "        vertical-align: top;\n",
       "    }\n",
       "\n",
       "    .dataframe thead th {\n",
       "        text-align: right;\n",
       "    }\n",
       "</style>\n",
       "<table border=\"1\" class=\"dataframe\">\n",
       "  <thead>\n",
       "    <tr style=\"text-align: right;\">\n",
       "      <th></th>\n",
       "      <th>c/a</th>\n",
       "      <th>unit</th>\n",
       "      <th>scp</th>\n",
       "      <th>station</th>\n",
       "      <th>linename</th>\n",
       "      <th>division</th>\n",
       "      <th>date</th>\n",
       "      <th>time</th>\n",
       "      <th>desc</th>\n",
       "      <th>entries</th>\n",
       "      <th>exits</th>\n",
       "      <th>datetime</th>\n",
       "    </tr>\n",
       "  </thead>\n",
       "  <tbody>\n",
       "    <tr>\n",
       "      <th>0</th>\n",
       "      <td>A002</td>\n",
       "      <td>R051</td>\n",
       "      <td>02-00-00</td>\n",
       "      <td>59 ST</td>\n",
       "      <td>NQR456W</td>\n",
       "      <td>BMT</td>\n",
       "      <td>05/18/2019</td>\n",
       "      <td>00:00:00</td>\n",
       "      <td>REGULAR</td>\n",
       "      <td>7062481</td>\n",
       "      <td>2393489</td>\n",
       "      <td>2019-05-18 00:00:00</td>\n",
       "    </tr>\n",
       "    <tr>\n",
       "      <th>1</th>\n",
       "      <td>A002</td>\n",
       "      <td>R051</td>\n",
       "      <td>02-00-00</td>\n",
       "      <td>59 ST</td>\n",
       "      <td>NQR456W</td>\n",
       "      <td>BMT</td>\n",
       "      <td>05/18/2019</td>\n",
       "      <td>04:00:00</td>\n",
       "      <td>REGULAR</td>\n",
       "      <td>7062505</td>\n",
       "      <td>2393492</td>\n",
       "      <td>2019-05-18 04:00:00</td>\n",
       "    </tr>\n",
       "    <tr>\n",
       "      <th>2</th>\n",
       "      <td>A002</td>\n",
       "      <td>R051</td>\n",
       "      <td>02-00-00</td>\n",
       "      <td>59 ST</td>\n",
       "      <td>NQR456W</td>\n",
       "      <td>BMT</td>\n",
       "      <td>05/18/2019</td>\n",
       "      <td>08:00:00</td>\n",
       "      <td>REGULAR</td>\n",
       "      <td>7062529</td>\n",
       "      <td>2393526</td>\n",
       "      <td>2019-05-18 08:00:00</td>\n",
       "    </tr>\n",
       "    <tr>\n",
       "      <th>3</th>\n",
       "      <td>A002</td>\n",
       "      <td>R051</td>\n",
       "      <td>02-00-00</td>\n",
       "      <td>59 ST</td>\n",
       "      <td>NQR456W</td>\n",
       "      <td>BMT</td>\n",
       "      <td>05/18/2019</td>\n",
       "      <td>12:00:00</td>\n",
       "      <td>REGULAR</td>\n",
       "      <td>7062627</td>\n",
       "      <td>2393612</td>\n",
       "      <td>2019-05-18 12:00:00</td>\n",
       "    </tr>\n",
       "    <tr>\n",
       "      <th>4</th>\n",
       "      <td>A002</td>\n",
       "      <td>R051</td>\n",
       "      <td>02-00-00</td>\n",
       "      <td>59 ST</td>\n",
       "      <td>NQR456W</td>\n",
       "      <td>BMT</td>\n",
       "      <td>05/18/2019</td>\n",
       "      <td>16:00:00</td>\n",
       "      <td>RECOVR AUD</td>\n",
       "      <td>7062835</td>\n",
       "      <td>2393662</td>\n",
       "      <td>2019-05-18 16:00:00</td>\n",
       "    </tr>\n",
       "  </tbody>\n",
       "</table>\n",
       "</div>"
      ],
      "text/plain": [
       "    c/a  unit       scp station linename division        date      time  \\\n",
       "0  A002  R051  02-00-00   59 ST  NQR456W      BMT  05/18/2019  00:00:00   \n",
       "1  A002  R051  02-00-00   59 ST  NQR456W      BMT  05/18/2019  04:00:00   \n",
       "2  A002  R051  02-00-00   59 ST  NQR456W      BMT  05/18/2019  08:00:00   \n",
       "3  A002  R051  02-00-00   59 ST  NQR456W      BMT  05/18/2019  12:00:00   \n",
       "4  A002  R051  02-00-00   59 ST  NQR456W      BMT  05/18/2019  16:00:00   \n",
       "\n",
       "         desc  entries    exits            datetime  \n",
       "0     REGULAR  7062481  2393489 2019-05-18 00:00:00  \n",
       "1     REGULAR  7062505  2393492 2019-05-18 04:00:00  \n",
       "2     REGULAR  7062529  2393526 2019-05-18 08:00:00  \n",
       "3     REGULAR  7062627  2393612 2019-05-18 12:00:00  \n",
       "4  RECOVR AUD  7062835  2393662 2019-05-18 16:00:00  "
      ]
     },
     "execution_count": 251,
     "metadata": {},
     "output_type": "execute_result"
    }
   ],
   "source": [
    "df_pre.head()"
   ]
  },
  {
   "cell_type": "markdown",
   "metadata": {},
   "source": [
    "Challenge 3 and simplifying the data to make it more manageable and portable as csv"
   ]
  },
  {
   "cell_type": "code",
   "execution_count": 252,
   "metadata": {},
   "outputs": [],
   "source": [
    "def clean_df(df):\n",
    "    df.drop(columns=['c/a','exits','desc','division'], inplace=True)\n",
    "    df.sort_values(['unit', 'scp','station','datetime'], inplace=True, ascending=False)\n",
    "    df.drop_duplicates(subset=['scp','station','datetime'], inplace=True)\n",
    "clean_df(df_pre)\n",
    "clean_df(df_post)"
   ]
  },
  {
   "cell_type": "code",
   "execution_count": 253,
   "metadata": {},
   "outputs": [],
   "source": [
    "def make_daily_counts(df):\n",
    "    df_daily_counts = df.groupby(['unit', 'scp','station','date']).entries.first().reset_index()\n",
    "    return df_daily_counts\n",
    "pre_dailies = make_daily_counts(df_pre)\n",
    "post_dailies = make_daily_counts(df_post)"
   ]
  },
  {
   "cell_type": "code",
   "execution_count": 254,
   "metadata": {},
   "outputs": [
    {
     "data": {
      "text/html": [
       "<div>\n",
       "<style scoped>\n",
       "    .dataframe tbody tr th:only-of-type {\n",
       "        vertical-align: middle;\n",
       "    }\n",
       "\n",
       "    .dataframe tbody tr th {\n",
       "        vertical-align: top;\n",
       "    }\n",
       "\n",
       "    .dataframe thead th {\n",
       "        text-align: right;\n",
       "    }\n",
       "</style>\n",
       "<table border=\"1\" class=\"dataframe\">\n",
       "  <thead>\n",
       "    <tr style=\"text-align: right;\">\n",
       "      <th></th>\n",
       "      <th>unit</th>\n",
       "      <th>scp</th>\n",
       "      <th>station</th>\n",
       "      <th>date</th>\n",
       "      <th>entries</th>\n",
       "    </tr>\n",
       "  </thead>\n",
       "  <tbody>\n",
       "    <tr>\n",
       "      <th>0</th>\n",
       "      <td>R001</td>\n",
       "      <td>00-00-00</td>\n",
       "      <td>WHITEHALL S-FRY</td>\n",
       "      <td>03/14/2020</td>\n",
       "      <td>5031852</td>\n",
       "    </tr>\n",
       "    <tr>\n",
       "      <th>1</th>\n",
       "      <td>R001</td>\n",
       "      <td>00-00-00</td>\n",
       "      <td>WHITEHALL S-FRY</td>\n",
       "      <td>03/15/2020</td>\n",
       "      <td>5032650</td>\n",
       "    </tr>\n",
       "    <tr>\n",
       "      <th>2</th>\n",
       "      <td>R001</td>\n",
       "      <td>00-00-00</td>\n",
       "      <td>WHITEHALL S-FRY</td>\n",
       "      <td>03/16/2020</td>\n",
       "      <td>5033943</td>\n",
       "    </tr>\n",
       "    <tr>\n",
       "      <th>3</th>\n",
       "      <td>R001</td>\n",
       "      <td>00-00-00</td>\n",
       "      <td>WHITEHALL S-FRY</td>\n",
       "      <td>03/17/2020</td>\n",
       "      <td>5035110</td>\n",
       "    </tr>\n",
       "    <tr>\n",
       "      <th>4</th>\n",
       "      <td>R001</td>\n",
       "      <td>00-00-00</td>\n",
       "      <td>WHITEHALL S-FRY</td>\n",
       "      <td>03/18/2020</td>\n",
       "      <td>5036176</td>\n",
       "    </tr>\n",
       "  </tbody>\n",
       "</table>\n",
       "</div>"
      ],
      "text/plain": [
       "   unit       scp          station        date  entries\n",
       "0  R001  00-00-00  WHITEHALL S-FRY  03/14/2020  5031852\n",
       "1  R001  00-00-00  WHITEHALL S-FRY  03/15/2020  5032650\n",
       "2  R001  00-00-00  WHITEHALL S-FRY  03/16/2020  5033943\n",
       "3  R001  00-00-00  WHITEHALL S-FRY  03/17/2020  5035110\n",
       "4  R001  00-00-00  WHITEHALL S-FRY  03/18/2020  5036176"
      ]
     },
     "execution_count": 254,
     "metadata": {},
     "output_type": "execute_result"
    }
   ],
   "source": [
    "post_dailies.head()"
   ]
  },
  {
   "cell_type": "code",
   "execution_count": 255,
   "metadata": {},
   "outputs": [
    {
     "data": {
      "text/html": [
       "<div>\n",
       "<style scoped>\n",
       "    .dataframe tbody tr th:only-of-type {\n",
       "        vertical-align: middle;\n",
       "    }\n",
       "\n",
       "    .dataframe tbody tr th {\n",
       "        vertical-align: top;\n",
       "    }\n",
       "\n",
       "    .dataframe thead th {\n",
       "        text-align: right;\n",
       "    }\n",
       "</style>\n",
       "<table border=\"1\" class=\"dataframe\">\n",
       "  <thead>\n",
       "    <tr style=\"text-align: right;\">\n",
       "      <th></th>\n",
       "      <th>unit</th>\n",
       "      <th>scp</th>\n",
       "      <th>station</th>\n",
       "      <th>date</th>\n",
       "      <th>entries</th>\n",
       "    </tr>\n",
       "  </thead>\n",
       "  <tbody>\n",
       "    <tr>\n",
       "      <th>0</th>\n",
       "      <td>R001</td>\n",
       "      <td>00-00-00</td>\n",
       "      <td>WHITEHALL S-FRY</td>\n",
       "      <td>03/09/2019</td>\n",
       "      <td>4136720</td>\n",
       "    </tr>\n",
       "    <tr>\n",
       "      <th>1</th>\n",
       "      <td>R001</td>\n",
       "      <td>00-00-00</td>\n",
       "      <td>WHITEHALL S-FRY</td>\n",
       "      <td>03/10/2019</td>\n",
       "      <td>4137836</td>\n",
       "    </tr>\n",
       "    <tr>\n",
       "      <th>2</th>\n",
       "      <td>R001</td>\n",
       "      <td>00-00-00</td>\n",
       "      <td>WHITEHALL S-FRY</td>\n",
       "      <td>03/11/2019</td>\n",
       "      <td>4140665</td>\n",
       "    </tr>\n",
       "    <tr>\n",
       "      <th>3</th>\n",
       "      <td>R001</td>\n",
       "      <td>00-00-00</td>\n",
       "      <td>WHITEHALL S-FRY</td>\n",
       "      <td>03/12/2019</td>\n",
       "      <td>4143382</td>\n",
       "    </tr>\n",
       "    <tr>\n",
       "      <th>4</th>\n",
       "      <td>R001</td>\n",
       "      <td>00-00-00</td>\n",
       "      <td>WHITEHALL S-FRY</td>\n",
       "      <td>03/13/2019</td>\n",
       "      <td>4146205</td>\n",
       "    </tr>\n",
       "  </tbody>\n",
       "</table>\n",
       "</div>"
      ],
      "text/plain": [
       "   unit       scp          station        date  entries\n",
       "0  R001  00-00-00  WHITEHALL S-FRY  03/09/2019  4136720\n",
       "1  R001  00-00-00  WHITEHALL S-FRY  03/10/2019  4137836\n",
       "2  R001  00-00-00  WHITEHALL S-FRY  03/11/2019  4140665\n",
       "3  R001  00-00-00  WHITEHALL S-FRY  03/12/2019  4143382\n",
       "4  R001  00-00-00  WHITEHALL S-FRY  03/13/2019  4146205"
      ]
     },
     "execution_count": 255,
     "metadata": {},
     "output_type": "execute_result"
    }
   ],
   "source": [
    "pre_dailies.head()"
   ]
  },
  {
   "cell_type": "code",
   "execution_count": 256,
   "metadata": {},
   "outputs": [],
   "source": [
    "def add_prev(df):\n",
    "    df[['prev_date', 'prev_entries']] = df.groupby(['scp','station'])[['date','entries']].apply(lambda line: line.shift(1))\n",
    "\n",
    "add_prev(pre_dailies)\n",
    "add_prev(post_dailies)"
   ]
  },
  {
   "cell_type": "code",
   "execution_count": 257,
   "metadata": {},
   "outputs": [],
   "source": [
    "def rmna(df):\n",
    "    df.dropna(subset=['prev_date'], axis=0, inplace=True)\n",
    "rmna(pre_dailies)\n",
    "rmna(post_dailies)"
   ]
  },
  {
   "cell_type": "code",
   "execution_count": 73,
   "metadata": {},
   "outputs": [],
   "source": [
    "import numpy as np"
   ]
  },
  {
   "cell_type": "code",
   "execution_count": 258,
   "metadata": {},
   "outputs": [],
   "source": [
    "def get_dailies(row):\n",
    "    delta = row.entries - row.prev_entries\n",
    "    if delta < 0:\n",
    "        delta = -delta\n",
    "    if delta > 100000:\n",
    "        delta = min(row.entries, row.prev_entries)\n",
    "    if delta > 100000:\n",
    "        return np.nan\n",
    "    return delta\n",
    "\n",
    "pre_dailies['day_count'] = pre_dailies.apply(get_dailies, axis=1)\n",
    "post_dailies['day_count'] = post_dailies.apply(get_dailies, axis=1)"
   ]
  },
  {
   "cell_type": "code",
   "execution_count": 263,
   "metadata": {},
   "outputs": [
    {
     "data": {
      "text/html": [
       "<div>\n",
       "<style scoped>\n",
       "    .dataframe tbody tr th:only-of-type {\n",
       "        vertical-align: middle;\n",
       "    }\n",
       "\n",
       "    .dataframe tbody tr th {\n",
       "        vertical-align: top;\n",
       "    }\n",
       "\n",
       "    .dataframe thead th {\n",
       "        text-align: right;\n",
       "    }\n",
       "</style>\n",
       "<table border=\"1\" class=\"dataframe\">\n",
       "  <thead>\n",
       "    <tr style=\"text-align: right;\">\n",
       "      <th></th>\n",
       "      <th>unit</th>\n",
       "      <th>scp</th>\n",
       "      <th>station</th>\n",
       "      <th>date</th>\n",
       "      <th>entries</th>\n",
       "      <th>prev_date</th>\n",
       "      <th>prev_entries</th>\n",
       "      <th>day_count</th>\n",
       "    </tr>\n",
       "  </thead>\n",
       "  <tbody>\n",
       "    <tr>\n",
       "      <th>242583</th>\n",
       "      <td>R293</td>\n",
       "      <td>00-03-00</td>\n",
       "      <td>34 ST-PENN STA</td>\n",
       "      <td>2020-05-09</td>\n",
       "      <td>97878784</td>\n",
       "      <td>05/08/2020</td>\n",
       "      <td>97878815.0</td>\n",
       "      <td>31.0</td>\n",
       "    </tr>\n",
       "  </tbody>\n",
       "</table>\n",
       "</div>"
      ],
      "text/plain": [
       "        unit       scp         station       date   entries   prev_date  \\\n",
       "242583  R293  00-03-00  34 ST-PENN STA 2020-05-09  97878784  05/08/2020   \n",
       "\n",
       "        prev_entries  day_count  \n",
       "242583    97878815.0       31.0  "
      ]
     },
     "execution_count": 263,
     "metadata": {},
     "output_type": "execute_result"
    }
   ],
   "source": [
    "post_dailies.sample()"
   ]
  },
  {
   "cell_type": "code",
   "execution_count": 262,
   "metadata": {},
   "outputs": [
    {
     "data": {
      "text/html": [
       "<div>\n",
       "<style scoped>\n",
       "    .dataframe tbody tr th:only-of-type {\n",
       "        vertical-align: middle;\n",
       "    }\n",
       "\n",
       "    .dataframe tbody tr th {\n",
       "        vertical-align: top;\n",
       "    }\n",
       "\n",
       "    .dataframe thead th {\n",
       "        text-align: right;\n",
       "    }\n",
       "</style>\n",
       "<table border=\"1\" class=\"dataframe\">\n",
       "  <thead>\n",
       "    <tr style=\"text-align: right;\">\n",
       "      <th></th>\n",
       "      <th>unit</th>\n",
       "      <th>scp</th>\n",
       "      <th>station</th>\n",
       "      <th>date</th>\n",
       "      <th>entries</th>\n",
       "      <th>prev_date</th>\n",
       "      <th>prev_entries</th>\n",
       "      <th>day_count</th>\n",
       "    </tr>\n",
       "  </thead>\n",
       "  <tbody>\n",
       "    <tr>\n",
       "      <th>1</th>\n",
       "      <td>R001</td>\n",
       "      <td>00-00-00</td>\n",
       "      <td>WHITEHALL S-FRY</td>\n",
       "      <td>2019-03-10</td>\n",
       "      <td>4137836</td>\n",
       "      <td>03/09/2019</td>\n",
       "      <td>4136720.0</td>\n",
       "      <td>1116.0</td>\n",
       "    </tr>\n",
       "    <tr>\n",
       "      <th>2</th>\n",
       "      <td>R001</td>\n",
       "      <td>00-00-00</td>\n",
       "      <td>WHITEHALL S-FRY</td>\n",
       "      <td>2019-03-11</td>\n",
       "      <td>4140665</td>\n",
       "      <td>03/10/2019</td>\n",
       "      <td>4137836.0</td>\n",
       "      <td>2829.0</td>\n",
       "    </tr>\n",
       "    <tr>\n",
       "      <th>3</th>\n",
       "      <td>R001</td>\n",
       "      <td>00-00-00</td>\n",
       "      <td>WHITEHALL S-FRY</td>\n",
       "      <td>2019-03-12</td>\n",
       "      <td>4143382</td>\n",
       "      <td>03/11/2019</td>\n",
       "      <td>4140665.0</td>\n",
       "      <td>2717.0</td>\n",
       "    </tr>\n",
       "    <tr>\n",
       "      <th>4</th>\n",
       "      <td>R001</td>\n",
       "      <td>00-00-00</td>\n",
       "      <td>WHITEHALL S-FRY</td>\n",
       "      <td>2019-03-13</td>\n",
       "      <td>4146205</td>\n",
       "      <td>03/12/2019</td>\n",
       "      <td>4143382.0</td>\n",
       "      <td>2823.0</td>\n",
       "    </tr>\n",
       "    <tr>\n",
       "      <th>5</th>\n",
       "      <td>R001</td>\n",
       "      <td>00-00-00</td>\n",
       "      <td>WHITEHALL S-FRY</td>\n",
       "      <td>2019-03-14</td>\n",
       "      <td>4149075</td>\n",
       "      <td>03/13/2019</td>\n",
       "      <td>4146205.0</td>\n",
       "      <td>2870.0</td>\n",
       "    </tr>\n",
       "  </tbody>\n",
       "</table>\n",
       "</div>"
      ],
      "text/plain": [
       "   unit       scp          station       date  entries   prev_date  \\\n",
       "1  R001  00-00-00  WHITEHALL S-FRY 2019-03-10  4137836  03/09/2019   \n",
       "2  R001  00-00-00  WHITEHALL S-FRY 2019-03-11  4140665  03/10/2019   \n",
       "3  R001  00-00-00  WHITEHALL S-FRY 2019-03-12  4143382  03/11/2019   \n",
       "4  R001  00-00-00  WHITEHALL S-FRY 2019-03-13  4146205  03/12/2019   \n",
       "5  R001  00-00-00  WHITEHALL S-FRY 2019-03-14  4149075  03/13/2019   \n",
       "\n",
       "   prev_entries  day_count  \n",
       "1     4136720.0     1116.0  \n",
       "2     4137836.0     2829.0  \n",
       "3     4140665.0     2717.0  \n",
       "4     4143382.0     2823.0  \n",
       "5     4146205.0     2870.0  "
      ]
     },
     "execution_count": 262,
     "metadata": {},
     "output_type": "execute_result"
    }
   ],
   "source": [
    "pre_dailies.head()"
   ]
  },
  {
   "cell_type": "code",
   "execution_count": 261,
   "metadata": {},
   "outputs": [],
   "source": [
    "def to_datetime(df):\n",
    "    df['date'] = pd.to_datetime(df['date'], format='%m/%d/%Y')\n",
    "to_datetime(pre_dailies)\n",
    "to_datetime(post_dailies)"
   ]
  },
  {
   "cell_type": "code",
   "execution_count": 265,
   "metadata": {},
   "outputs": [],
   "source": [
    "pre_dailies.to_csv('2019_mta_counts.csv')\n",
    "post_dailies.to_csv('2020_mta_counts.csv')"
   ]
  },
  {
   "cell_type": "markdown",
   "metadata": {},
   "source": [
    "Restart here if you don't want to reload everything from above"
   ]
  },
  {
   "cell_type": "code",
   "execution_count": 109,
   "metadata": {},
   "outputs": [],
   "source": [
    "pre_dailies = pd.read_csv('2019_mta_counts.csv')\n",
    "post_dailies = pd.read_csv('2020_mta_counts.csv')"
   ]
  },
  {
   "cell_type": "markdown",
   "metadata": {},
   "source": [
    "Challenge 4:"
   ]
  },
  {
   "cell_type": "code",
   "execution_count": 266,
   "metadata": {},
   "outputs": [],
   "source": [
    "%matplotlib inline\n",
    "import matplotlib.pyplot as plt"
   ]
  },
  {
   "cell_type": "code",
   "execution_count": 267,
   "metadata": {},
   "outputs": [],
   "source": [
    "mask = ((pre_dailies.scp == '00-00-02') &\n",
    "        (pre_dailies.station == 'CLARK ST'))\n",
    "pre_counts = pre_dailies[mask].day_count\n",
    "pre_dates = pre_dates = pre_dailies[mask].date"
   ]
  },
  {
   "cell_type": "code",
   "execution_count": 298,
   "metadata": {},
   "outputs": [],
   "source": [
    "mask = ((post_dailies.scp == '00-00-02') &\n",
    "        (post_dailies.station == 'CLARK ST'))\n",
    "post_counts = post_dailies[mask].day_count\n",
    "post_dates = post_dailies[mask].date"
   ]
  },
  {
   "cell_type": "code",
   "execution_count": 270,
   "metadata": {},
   "outputs": [
    {
     "data": {
      "text/plain": [
       "[<matplotlib.lines.Line2D at 0x7fba82251810>]"
      ]
     },
     "execution_count": 270,
     "metadata": {},
     "output_type": "execute_result"
    },
    {
     "data": {
      "image/png": "[encoded data removed]",
      "text/plain": [
       "<Figure size 720x216 with 1 Axes>"
      ]
     },
     "metadata": {
      "needs_background": "light"
     },
     "output_type": "display_data"
    }
   ],
   "source": [
    "plt.figure(figsize=(10,3))\n",
    "plt.plot(pre_dates,pre_counts)\n",
    "plt.plot(pre_dates,post_counts)"
   ]
  },
  {
   "cell_type": "markdown",
   "metadata": {},
   "source": [
    "Challenge 5"
   ]
  },
  {
   "cell_type": "code",
   "execution_count": 271,
   "metadata": {},
   "outputs": [
    {
     "data": {
      "text/html": [
       "<div>\n",
       "<style scoped>\n",
       "    .dataframe tbody tr th:only-of-type {\n",
       "        vertical-align: middle;\n",
       "    }\n",
       "\n",
       "    .dataframe tbody tr th {\n",
       "        vertical-align: top;\n",
       "    }\n",
       "\n",
       "    .dataframe thead th {\n",
       "        text-align: right;\n",
       "    }\n",
       "</style>\n",
       "<table border=\"1\" class=\"dataframe\">\n",
       "  <thead>\n",
       "    <tr style=\"text-align: right;\">\n",
       "      <th></th>\n",
       "      <th>station</th>\n",
       "      <th>date</th>\n",
       "      <th>day_count</th>\n",
       "    </tr>\n",
       "  </thead>\n",
       "  <tbody>\n",
       "    <tr>\n",
       "      <th>28705</th>\n",
       "      <td>ZEREGA AV</td>\n",
       "      <td>2019-05-20</td>\n",
       "      <td>2745.0</td>\n",
       "    </tr>\n",
       "    <tr>\n",
       "      <th>28706</th>\n",
       "      <td>ZEREGA AV</td>\n",
       "      <td>2019-05-21</td>\n",
       "      <td>2856.0</td>\n",
       "    </tr>\n",
       "    <tr>\n",
       "      <th>28707</th>\n",
       "      <td>ZEREGA AV</td>\n",
       "      <td>2019-05-22</td>\n",
       "      <td>2872.0</td>\n",
       "    </tr>\n",
       "    <tr>\n",
       "      <th>28708</th>\n",
       "      <td>ZEREGA AV</td>\n",
       "      <td>2019-05-23</td>\n",
       "      <td>2768.0</td>\n",
       "    </tr>\n",
       "    <tr>\n",
       "      <th>28709</th>\n",
       "      <td>ZEREGA AV</td>\n",
       "      <td>2019-05-24</td>\n",
       "      <td>2737.0</td>\n",
       "    </tr>\n",
       "  </tbody>\n",
       "</table>\n",
       "</div>"
      ],
      "text/plain": [
       "         station       date  day_count\n",
       "28705  ZEREGA AV 2019-05-20     2745.0\n",
       "28706  ZEREGA AV 2019-05-21     2856.0\n",
       "28707  ZEREGA AV 2019-05-22     2872.0\n",
       "28708  ZEREGA AV 2019-05-23     2768.0\n",
       "28709  ZEREGA AV 2019-05-24     2737.0"
      ]
     },
     "execution_count": 271,
     "metadata": {},
     "output_type": "execute_result"
    }
   ],
   "source": [
    "pre_stations = pre_dailies.groupby(['station', 'date'])['day_count'].sum().reset_index()\n",
    "pre_stations.tail()"
   ]
  },
  {
   "cell_type": "code",
   "execution_count": 272,
   "metadata": {},
   "outputs": [],
   "source": [
    "post_stations = post_dailies.groupby(['station', 'date'])['day_count'].sum().reset_index()"
   ]
  },
  {
   "cell_type": "markdown",
   "metadata": {},
   "source": [
    "Challenge 6"
   ]
  },
  {
   "cell_type": "code",
   "execution_count": 273,
   "metadata": {},
   "outputs": [],
   "source": [
    "from collections import defaultdict"
   ]
  },
  {
   "cell_type": "code",
   "execution_count": 309,
   "metadata": {},
   "outputs": [],
   "source": [
    "pre_time_series = defaultdict(list)\n",
    "for row in pre_stations.itertuples():\n",
    "    pre_time_series[row[1]].append((np.datetime64(row[2]), row[3]))"
   ]
  },
  {
   "cell_type": "code",
   "execution_count": 310,
   "metadata": {},
   "outputs": [],
   "source": [
    "post_time_series = defaultdict(list)\n",
    "for row in post_stations.itertuples():\n",
    "    post_time_series[row[1]].append((np.datetime64(row[2]), row[3]))"
   ]
  },
  {
   "cell_type": "markdown",
   "metadata": {},
   "source": [
    "Challenge 7:"
   ]
  },
  {
   "cell_type": "code",
   "execution_count": 289,
   "metadata": {},
   "outputs": [],
   "source": [
    "import numpy as np"
   ]
  },
  {
   "cell_type": "code",
   "execution_count": 311,
   "metadata": {},
   "outputs": [
    {
     "data": {
      "text/plain": [
       "[<matplotlib.lines.Line2D at 0x7fba2215ba50>]"
      ]
     },
     "execution_count": 311,
     "metadata": {},
     "output_type": "execute_result"
    },
    {
     "data": {
      "image/png": "[encoded data removed]",
      "text/plain": [
       "<Figure size 720x216 with 1 Axes>"
      ]
     },
     "metadata": {
      "needs_background": "light"
     },
     "output_type": "display_data"
    }
   ],
   "source": [
    "unzipped = list(zip(*pre_time_series['CLARK ST']))\n",
    "dates = unzipped[0]\n",
    "counts = unzipped[1]\n",
    "plt.figure(figsize=(10,3))\n",
    "plt.plot(dates, counts)\n",
    "post_unzip = list(zip(*post_time_series['CLARK ST']))\n",
    "post_dates = post_unzip[0]\n",
    "post_counts = post_unzip[1]\n",
    "plt.plot(pre_dates, post_counts)"
   ]
  },
  {
   "cell_type": "markdown",
   "metadata": {},
   "source": [
    "Challenge 8:"
   ]
  },
  {
   "cell_type": "code",
   "execution_count": 301,
   "metadata": {},
   "outputs": [
    {
     "data": {
      "text/plain": [
       "Timestamp('2019-03-10 00:00:00')"
      ]
     },
     "execution_count": 301,
     "metadata": {},
     "output_type": "execute_result"
    }
   ],
   "source": [
    "pd.Timestamp(dates[0])"
   ]
  },
  {
   "cell_type": "code",
   "execution_count": 305,
   "metadata": {},
   "outputs": [],
   "source": [
    "pre_days_series = defaultdict(list)\n",
    "for row in pre_stations.itertuples():\n",
    "    pre_days_series[row[1]].append((row[2], row[2].strftime('%A'), row[3]))"
   ]
  },
  {
   "cell_type": "code",
   "execution_count": 315,
   "metadata": {},
   "outputs": [],
   "source": [
    "post_days_series = defaultdict(list)\n",
    "for row in post_stations.itertuples():\n",
    "    post_days_series[row[1]].append((row[2], row[2].strftime('%A'), row[3]))"
   ]
  },
  {
   "cell_type": "code",
   "execution_count": 321,
   "metadata": {},
   "outputs": [
    {
     "data": {
      "text/plain": [
       "[<matplotlib.lines.Line2D at 0x7fba264344d0>]"
      ]
     },
     "execution_count": 321,
     "metadata": {},
     "output_type": "execute_result"
    },
    {
     "data": {
      "image/png": "[encoded data removed]",
      "text/plain": [
       "<Figure size 720x216 with 1 Axes>"
      ]
     },
     "metadata": {
      "needs_background": "light"
     },
     "output_type": "display_data"
    }
   ],
   "source": [
    "unzipped = list(zip(*pre_days_series['CLARK ST']))\n",
    "day = unzipped[1]\n",
    "counts = unzipped[2]\n",
    "plt.figure(figsize=(10,3))\n",
    "plt.plot(day, counts)\n",
    "post_unzip = list(zip(*post_days_series['CLARK ST']))\n",
    "post_day = post_unzip[1]\n",
    "post_counts = post_unzip[2]\n",
    "plt.plot(post_day, post_counts)"
   ]
  },
  {
   "cell_type": "markdown",
   "metadata": {},
   "source": [
    "Challenge 9:"
   ]
  },
  {
   "cell_type": "code",
   "execution_count": 331,
   "metadata": {},
   "outputs": [],
   "source": [
    "total_pre = pre_stations.groupby('station')['day_count'].sum().reset_index().sort_values('day_count', ascending=False).head(10)"
   ]
  },
  {
   "cell_type": "code",
   "execution_count": 332,
   "metadata": {},
   "outputs": [],
   "source": [
    "total_post = post_stations.groupby('station')['day_count'].sum().reset_index().sort_values('day_count', ascending=False).head(10)"
   ]
  },
  {
   "cell_type": "markdown",
   "metadata": {},
   "source": [
    "Challenge 10:"
   ]
  },
  {
   "cell_type": "code",
   "execution_count": 334,
   "metadata": {},
   "outputs": [
    {
     "data": {
      "text/plain": [
       "(array([3., 1., 0., 0., 0., 1., 0., 1., 1., 3.]),\n",
       " array([485920. , 506557.4, 527194.8, 547832.2, 568469.6, 589107. ,\n",
       "        609744.4, 630381.8, 651019.2, 671656.6, 692294. ]),\n",
       " <a list of 10 Patch objects>)"
      ]
     },
     "execution_count": 334,
     "metadata": {},
     "output_type": "execute_result"
    },
    {
     "data": {
      "image/png": "[encoded data removed]",
      "text/plain": [
       "<Figure size 432x288 with 1 Axes>"
      ]
     },
     "metadata": {
      "needs_background": "light"
     },
     "output_type": "display_data"
    }
   ],
   "source": [
    "plt.hist(total_pre.day_count)\n",
    "plt.hist(total_post.day_count)"
   ]
  },
  {
   "cell_type": "code",
   "execution_count": null,
   "metadata": {},
   "outputs": [],
   "source": []
  }
 ],
 "metadata": {
  "kernelspec": {
   "display_name": "Python 3",
   "language": "python",
   "name": "python3"
  },
  "language_info": {
   "codemirror_mode": {
    "name": "ipython",
    "version": 3
   },
   "file_extension": ".py",
   "mimetype": "text/x-python",
   "name": "python",
   "nbconvert_exporter": "python",
   "pygments_lexer": "ipython3",
   "version": "3.7.6"
  }
 },
 "nbformat": 4,
 "nbformat_minor": 4
}
